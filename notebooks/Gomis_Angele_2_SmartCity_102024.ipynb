{
 "cells": [
  {
   "cell_type": "markdown",
   "metadata": {
    "editable": true,
    "id": "JAM0bidNZtHD",
    "slideshow": {
     "slide_type": ""
    },
    "tags": []
   },
   "source": []
  },
  {
   "cell_type": "code",
   "execution_count": null,
   "metadata": {
    "colab": {
     "base_uri": "https://localhost:8080/"
    },
    "id": "FB_4m3h0vfI0",
    "outputId": "b9adb3cc-7226-46ac-a569-1e3a0be87f77"
   },
   "outputs": [],
   "source": []
  },
  {
   "cell_type": "code",
   "execution_count": null,
   "metadata": {
    "colab": {
     "base_uri": "https://localhost:8080/"
    },
    "id": "fdHReWfT-lwV",
    "outputId": "7dcf0783-eb85-49ee-b93f-7452d92185ea"
   },
   "outputs": [],
   "source": [
    "!pip install plotly"
   ]
  },
  {
   "cell_type": "markdown",
   "metadata": {
    "id": "a-FSPN3BNxsi"
   },
   "source": [
    "Smart City"
   ]
  },
  {
   "cell_type": "markdown",
   "metadata": {
    "id": "LKc75asRBLht"
   },
   "source": [
    "# Introduction : présentation du projet et des objectifs\n",
    "\n",
    "Ce projet vise à analyser les données des arbres de la ville de Paris. L'objectif est d'identifier les espèces les plus présentes, leur répartition géographique et d'autres informations pertinentes pour une meilleure gestion du patrimoine arboré\n",
    "\n",
    "## Résumé des étapes :\n",
    "\n",
    "1. Clonage du dépôt GitHub Analyse logistique dans Colab.\n",
    "2. Configuration de l'identité Git avec nom et email.\n",
    "3. Copie du notebook Gomis_Angele_2_SmartCity_102024.ipynb dans le dépôt.\n",
    "4. Ajout, commit et envoi du notebook vers GitHub."
   ]
  },
  {
   "cell_type": "markdown",
   "metadata": {
    "id": "QvsliprtPtHc"
   },
   "source": [
    "# 1. Etape1 : Mise en place de l'environnement"
   ]
  },
  {
   "cell_type": "code",
   "execution_count": null,
   "metadata": {
    "id": "iCwy3lcTDUyl"
   },
   "outputs": [],
   "source": [
    "# Téléchargement des bibliothèques\n",
    "import matplotlib.pyplot as plt\n",
    "import seaborn as sns\n",
    "import pandas as pd\n",
    "import numpy as np\n",
    "import plotly.express as px\n",
    "import plotly.graph_objects as go\n",
    "import numpy as np\n"
   ]
  },
  {
   "cell_type": "markdown",
   "metadata": {
    "id": "0LwxeAnGOHnE"
   },
   "source": [
    "# 2. Chargement des données & premières analyses"
   ]
  },
  {
   "cell_type": "code",
   "execution_count": null,
   "metadata": {
    "colab": {
     "base_uri": "https://localhost:8080/",
     "height": 74
    },
    "id": "51JYKdMUWOTS",
    "outputId": "c82ab51b-e266-4fa7-9e83-3780d4166c65"
   },
   "outputs": [],
   "source": [
    "from google.colab import files\n",
    "uploaded = files.upload()\n"
   ]
  },
  {
   "cell_type": "code",
   "execution_count": 6,
   "metadata": {
    "id": "YONShgcvWtOP"
   },
   "outputs": [
    {
     "ename": "FileNotFoundError",
     "evalue": "[Errno 2] No such file or directory: 'p2-arbres-fr.csv'",
     "output_type": "error",
     "traceback": [
      "\u001b[1;31m---------------------------------------------------------------------------\u001b[0m",
      "\u001b[1;31mFileNotFoundError\u001b[0m                         Traceback (most recent call last)",
      "Cell \u001b[1;32mIn[6], line 1\u001b[0m\n\u001b[1;32m----> 1\u001b[0m new_df \u001b[38;5;241m=\u001b[39m \u001b[43mpd\u001b[49m\u001b[38;5;241;43m.\u001b[39;49m\u001b[43mread_csv\u001b[49m\u001b[43m(\u001b[49m\u001b[38;5;124;43m'\u001b[39;49m\u001b[38;5;124;43mp2-arbres-fr.csv\u001b[39;49m\u001b[38;5;124;43m'\u001b[39;49m\u001b[43m,\u001b[49m\u001b[43m \u001b[49m\u001b[43msep\u001b[49m\u001b[38;5;241;43m=\u001b[39;49m\u001b[38;5;124;43m'\u001b[39;49m\u001b[38;5;124;43m;\u001b[39;49m\u001b[38;5;124;43m'\u001b[39;49m\u001b[43m)\u001b[49m\n",
      "File \u001b[1;32m~\\anaconda3\\envs\\data_analysis_env\\lib\\site-packages\\pandas\\io\\parsers\\readers.py:912\u001b[0m, in \u001b[0;36mread_csv\u001b[1;34m(filepath_or_buffer, sep, delimiter, header, names, index_col, usecols, dtype, engine, converters, true_values, false_values, skipinitialspace, skiprows, skipfooter, nrows, na_values, keep_default_na, na_filter, verbose, skip_blank_lines, parse_dates, infer_datetime_format, keep_date_col, date_parser, date_format, dayfirst, cache_dates, iterator, chunksize, compression, thousands, decimal, lineterminator, quotechar, quoting, doublequote, escapechar, comment, encoding, encoding_errors, dialect, on_bad_lines, delim_whitespace, low_memory, memory_map, float_precision, storage_options, dtype_backend)\u001b[0m\n\u001b[0;32m    899\u001b[0m kwds_defaults \u001b[38;5;241m=\u001b[39m _refine_defaults_read(\n\u001b[0;32m    900\u001b[0m     dialect,\n\u001b[0;32m    901\u001b[0m     delimiter,\n\u001b[1;32m   (...)\u001b[0m\n\u001b[0;32m    908\u001b[0m     dtype_backend\u001b[38;5;241m=\u001b[39mdtype_backend,\n\u001b[0;32m    909\u001b[0m )\n\u001b[0;32m    910\u001b[0m kwds\u001b[38;5;241m.\u001b[39mupdate(kwds_defaults)\n\u001b[1;32m--> 912\u001b[0m \u001b[38;5;28;01mreturn\u001b[39;00m \u001b[43m_read\u001b[49m\u001b[43m(\u001b[49m\u001b[43mfilepath_or_buffer\u001b[49m\u001b[43m,\u001b[49m\u001b[43m \u001b[49m\u001b[43mkwds\u001b[49m\u001b[43m)\u001b[49m\n",
      "File \u001b[1;32m~\\anaconda3\\envs\\data_analysis_env\\lib\\site-packages\\pandas\\io\\parsers\\readers.py:577\u001b[0m, in \u001b[0;36m_read\u001b[1;34m(filepath_or_buffer, kwds)\u001b[0m\n\u001b[0;32m    574\u001b[0m _validate_names(kwds\u001b[38;5;241m.\u001b[39mget(\u001b[38;5;124m\"\u001b[39m\u001b[38;5;124mnames\u001b[39m\u001b[38;5;124m\"\u001b[39m, \u001b[38;5;28;01mNone\u001b[39;00m))\n\u001b[0;32m    576\u001b[0m \u001b[38;5;66;03m# Create the parser.\u001b[39;00m\n\u001b[1;32m--> 577\u001b[0m parser \u001b[38;5;241m=\u001b[39m \u001b[43mTextFileReader\u001b[49m\u001b[43m(\u001b[49m\u001b[43mfilepath_or_buffer\u001b[49m\u001b[43m,\u001b[49m\u001b[43m \u001b[49m\u001b[38;5;241;43m*\u001b[39;49m\u001b[38;5;241;43m*\u001b[39;49m\u001b[43mkwds\u001b[49m\u001b[43m)\u001b[49m\n\u001b[0;32m    579\u001b[0m \u001b[38;5;28;01mif\u001b[39;00m chunksize \u001b[38;5;129;01mor\u001b[39;00m iterator:\n\u001b[0;32m    580\u001b[0m     \u001b[38;5;28;01mreturn\u001b[39;00m parser\n",
      "File \u001b[1;32m~\\anaconda3\\envs\\data_analysis_env\\lib\\site-packages\\pandas\\io\\parsers\\readers.py:1407\u001b[0m, in \u001b[0;36mTextFileReader.__init__\u001b[1;34m(self, f, engine, **kwds)\u001b[0m\n\u001b[0;32m   1404\u001b[0m     \u001b[38;5;28mself\u001b[39m\u001b[38;5;241m.\u001b[39moptions[\u001b[38;5;124m\"\u001b[39m\u001b[38;5;124mhas_index_names\u001b[39m\u001b[38;5;124m\"\u001b[39m] \u001b[38;5;241m=\u001b[39m kwds[\u001b[38;5;124m\"\u001b[39m\u001b[38;5;124mhas_index_names\u001b[39m\u001b[38;5;124m\"\u001b[39m]\n\u001b[0;32m   1406\u001b[0m \u001b[38;5;28mself\u001b[39m\u001b[38;5;241m.\u001b[39mhandles: IOHandles \u001b[38;5;241m|\u001b[39m \u001b[38;5;28;01mNone\u001b[39;00m \u001b[38;5;241m=\u001b[39m \u001b[38;5;28;01mNone\u001b[39;00m\n\u001b[1;32m-> 1407\u001b[0m \u001b[38;5;28mself\u001b[39m\u001b[38;5;241m.\u001b[39m_engine \u001b[38;5;241m=\u001b[39m \u001b[38;5;28;43mself\u001b[39;49m\u001b[38;5;241;43m.\u001b[39;49m\u001b[43m_make_engine\u001b[49m\u001b[43m(\u001b[49m\u001b[43mf\u001b[49m\u001b[43m,\u001b[49m\u001b[43m \u001b[49m\u001b[38;5;28;43mself\u001b[39;49m\u001b[38;5;241;43m.\u001b[39;49m\u001b[43mengine\u001b[49m\u001b[43m)\u001b[49m\n",
      "File \u001b[1;32m~\\anaconda3\\envs\\data_analysis_env\\lib\\site-packages\\pandas\\io\\parsers\\readers.py:1661\u001b[0m, in \u001b[0;36mTextFileReader._make_engine\u001b[1;34m(self, f, engine)\u001b[0m\n\u001b[0;32m   1659\u001b[0m     \u001b[38;5;28;01mif\u001b[39;00m \u001b[38;5;124m\"\u001b[39m\u001b[38;5;124mb\u001b[39m\u001b[38;5;124m\"\u001b[39m \u001b[38;5;129;01mnot\u001b[39;00m \u001b[38;5;129;01min\u001b[39;00m mode:\n\u001b[0;32m   1660\u001b[0m         mode \u001b[38;5;241m+\u001b[39m\u001b[38;5;241m=\u001b[39m \u001b[38;5;124m\"\u001b[39m\u001b[38;5;124mb\u001b[39m\u001b[38;5;124m\"\u001b[39m\n\u001b[1;32m-> 1661\u001b[0m \u001b[38;5;28mself\u001b[39m\u001b[38;5;241m.\u001b[39mhandles \u001b[38;5;241m=\u001b[39m \u001b[43mget_handle\u001b[49m\u001b[43m(\u001b[49m\n\u001b[0;32m   1662\u001b[0m \u001b[43m    \u001b[49m\u001b[43mf\u001b[49m\u001b[43m,\u001b[49m\n\u001b[0;32m   1663\u001b[0m \u001b[43m    \u001b[49m\u001b[43mmode\u001b[49m\u001b[43m,\u001b[49m\n\u001b[0;32m   1664\u001b[0m \u001b[43m    \u001b[49m\u001b[43mencoding\u001b[49m\u001b[38;5;241;43m=\u001b[39;49m\u001b[38;5;28;43mself\u001b[39;49m\u001b[38;5;241;43m.\u001b[39;49m\u001b[43moptions\u001b[49m\u001b[38;5;241;43m.\u001b[39;49m\u001b[43mget\u001b[49m\u001b[43m(\u001b[49m\u001b[38;5;124;43m\"\u001b[39;49m\u001b[38;5;124;43mencoding\u001b[39;49m\u001b[38;5;124;43m\"\u001b[39;49m\u001b[43m,\u001b[49m\u001b[43m \u001b[49m\u001b[38;5;28;43;01mNone\u001b[39;49;00m\u001b[43m)\u001b[49m\u001b[43m,\u001b[49m\n\u001b[0;32m   1665\u001b[0m \u001b[43m    \u001b[49m\u001b[43mcompression\u001b[49m\u001b[38;5;241;43m=\u001b[39;49m\u001b[38;5;28;43mself\u001b[39;49m\u001b[38;5;241;43m.\u001b[39;49m\u001b[43moptions\u001b[49m\u001b[38;5;241;43m.\u001b[39;49m\u001b[43mget\u001b[49m\u001b[43m(\u001b[49m\u001b[38;5;124;43m\"\u001b[39;49m\u001b[38;5;124;43mcompression\u001b[39;49m\u001b[38;5;124;43m\"\u001b[39;49m\u001b[43m,\u001b[49m\u001b[43m \u001b[49m\u001b[38;5;28;43;01mNone\u001b[39;49;00m\u001b[43m)\u001b[49m\u001b[43m,\u001b[49m\n\u001b[0;32m   1666\u001b[0m \u001b[43m    \u001b[49m\u001b[43mmemory_map\u001b[49m\u001b[38;5;241;43m=\u001b[39;49m\u001b[38;5;28;43mself\u001b[39;49m\u001b[38;5;241;43m.\u001b[39;49m\u001b[43moptions\u001b[49m\u001b[38;5;241;43m.\u001b[39;49m\u001b[43mget\u001b[49m\u001b[43m(\u001b[49m\u001b[38;5;124;43m\"\u001b[39;49m\u001b[38;5;124;43mmemory_map\u001b[39;49m\u001b[38;5;124;43m\"\u001b[39;49m\u001b[43m,\u001b[49m\u001b[43m \u001b[49m\u001b[38;5;28;43;01mFalse\u001b[39;49;00m\u001b[43m)\u001b[49m\u001b[43m,\u001b[49m\n\u001b[0;32m   1667\u001b[0m \u001b[43m    \u001b[49m\u001b[43mis_text\u001b[49m\u001b[38;5;241;43m=\u001b[39;49m\u001b[43mis_text\u001b[49m\u001b[43m,\u001b[49m\n\u001b[0;32m   1668\u001b[0m \u001b[43m    \u001b[49m\u001b[43merrors\u001b[49m\u001b[38;5;241;43m=\u001b[39;49m\u001b[38;5;28;43mself\u001b[39;49m\u001b[38;5;241;43m.\u001b[39;49m\u001b[43moptions\u001b[49m\u001b[38;5;241;43m.\u001b[39;49m\u001b[43mget\u001b[49m\u001b[43m(\u001b[49m\u001b[38;5;124;43m\"\u001b[39;49m\u001b[38;5;124;43mencoding_errors\u001b[39;49m\u001b[38;5;124;43m\"\u001b[39;49m\u001b[43m,\u001b[49m\u001b[43m \u001b[49m\u001b[38;5;124;43m\"\u001b[39;49m\u001b[38;5;124;43mstrict\u001b[39;49m\u001b[38;5;124;43m\"\u001b[39;49m\u001b[43m)\u001b[49m\u001b[43m,\u001b[49m\n\u001b[0;32m   1669\u001b[0m \u001b[43m    \u001b[49m\u001b[43mstorage_options\u001b[49m\u001b[38;5;241;43m=\u001b[39;49m\u001b[38;5;28;43mself\u001b[39;49m\u001b[38;5;241;43m.\u001b[39;49m\u001b[43moptions\u001b[49m\u001b[38;5;241;43m.\u001b[39;49m\u001b[43mget\u001b[49m\u001b[43m(\u001b[49m\u001b[38;5;124;43m\"\u001b[39;49m\u001b[38;5;124;43mstorage_options\u001b[39;49m\u001b[38;5;124;43m\"\u001b[39;49m\u001b[43m,\u001b[49m\u001b[43m \u001b[49m\u001b[38;5;28;43;01mNone\u001b[39;49;00m\u001b[43m)\u001b[49m\u001b[43m,\u001b[49m\n\u001b[0;32m   1670\u001b[0m \u001b[43m\u001b[49m\u001b[43m)\u001b[49m\n\u001b[0;32m   1671\u001b[0m \u001b[38;5;28;01massert\u001b[39;00m \u001b[38;5;28mself\u001b[39m\u001b[38;5;241m.\u001b[39mhandles \u001b[38;5;129;01mis\u001b[39;00m \u001b[38;5;129;01mnot\u001b[39;00m \u001b[38;5;28;01mNone\u001b[39;00m\n\u001b[0;32m   1672\u001b[0m f \u001b[38;5;241m=\u001b[39m \u001b[38;5;28mself\u001b[39m\u001b[38;5;241m.\u001b[39mhandles\u001b[38;5;241m.\u001b[39mhandle\n",
      "File \u001b[1;32m~\\anaconda3\\envs\\data_analysis_env\\lib\\site-packages\\pandas\\io\\common.py:859\u001b[0m, in \u001b[0;36mget_handle\u001b[1;34m(path_or_buf, mode, encoding, compression, memory_map, is_text, errors, storage_options)\u001b[0m\n\u001b[0;32m    854\u001b[0m \u001b[38;5;28;01melif\u001b[39;00m \u001b[38;5;28misinstance\u001b[39m(handle, \u001b[38;5;28mstr\u001b[39m):\n\u001b[0;32m    855\u001b[0m     \u001b[38;5;66;03m# Check whether the filename is to be opened in binary mode.\u001b[39;00m\n\u001b[0;32m    856\u001b[0m     \u001b[38;5;66;03m# Binary mode does not support 'encoding' and 'newline'.\u001b[39;00m\n\u001b[0;32m    857\u001b[0m     \u001b[38;5;28;01mif\u001b[39;00m ioargs\u001b[38;5;241m.\u001b[39mencoding \u001b[38;5;129;01mand\u001b[39;00m \u001b[38;5;124m\"\u001b[39m\u001b[38;5;124mb\u001b[39m\u001b[38;5;124m\"\u001b[39m \u001b[38;5;129;01mnot\u001b[39;00m \u001b[38;5;129;01min\u001b[39;00m ioargs\u001b[38;5;241m.\u001b[39mmode:\n\u001b[0;32m    858\u001b[0m         \u001b[38;5;66;03m# Encoding\u001b[39;00m\n\u001b[1;32m--> 859\u001b[0m         handle \u001b[38;5;241m=\u001b[39m \u001b[38;5;28;43mopen\u001b[39;49m\u001b[43m(\u001b[49m\n\u001b[0;32m    860\u001b[0m \u001b[43m            \u001b[49m\u001b[43mhandle\u001b[49m\u001b[43m,\u001b[49m\n\u001b[0;32m    861\u001b[0m \u001b[43m            \u001b[49m\u001b[43mioargs\u001b[49m\u001b[38;5;241;43m.\u001b[39;49m\u001b[43mmode\u001b[49m\u001b[43m,\u001b[49m\n\u001b[0;32m    862\u001b[0m \u001b[43m            \u001b[49m\u001b[43mencoding\u001b[49m\u001b[38;5;241;43m=\u001b[39;49m\u001b[43mioargs\u001b[49m\u001b[38;5;241;43m.\u001b[39;49m\u001b[43mencoding\u001b[49m\u001b[43m,\u001b[49m\n\u001b[0;32m    863\u001b[0m \u001b[43m            \u001b[49m\u001b[43merrors\u001b[49m\u001b[38;5;241;43m=\u001b[39;49m\u001b[43merrors\u001b[49m\u001b[43m,\u001b[49m\n\u001b[0;32m    864\u001b[0m \u001b[43m            \u001b[49m\u001b[43mnewline\u001b[49m\u001b[38;5;241;43m=\u001b[39;49m\u001b[38;5;124;43m\"\u001b[39;49m\u001b[38;5;124;43m\"\u001b[39;49m\u001b[43m,\u001b[49m\n\u001b[0;32m    865\u001b[0m \u001b[43m        \u001b[49m\u001b[43m)\u001b[49m\n\u001b[0;32m    866\u001b[0m     \u001b[38;5;28;01melse\u001b[39;00m:\n\u001b[0;32m    867\u001b[0m         \u001b[38;5;66;03m# Binary mode\u001b[39;00m\n\u001b[0;32m    868\u001b[0m         handle \u001b[38;5;241m=\u001b[39m \u001b[38;5;28mopen\u001b[39m(handle, ioargs\u001b[38;5;241m.\u001b[39mmode)\n",
      "\u001b[1;31mFileNotFoundError\u001b[0m: [Errno 2] No such file or directory: 'p2-arbres-fr.csv'"
     ]
    }
   ],
   "source": [
    "new_df = pd.read_csv('p2-arbres-fr.csv', sep=';')"
   ]
  },
  {
   "cell_type": "code",
   "execution_count": null,
   "metadata": {
    "id": "2GFSWY2KXguQ"
   },
   "outputs": [],
   "source": [
    "df=new_df.copy()"
   ]
  },
  {
   "cell_type": "code",
   "execution_count": null,
   "metadata": {
    "colab": {
     "base_uri": "https://localhost:8080/"
    },
    "id": "qpWzyZN5j3_1",
    "outputId": "21aa87a3-3924-4daf-a2de-a47b54363751"
   },
   "outputs": [],
   "source": [
    "# Affichage des colonnes du DataFrame\n",
    "df.columns"
   ]
  },
  {
   "cell_type": "code",
   "execution_count": null,
   "metadata": {
    "colab": {
     "base_uri": "https://localhost:8080/"
    },
    "id": "JlpBytGVj-bi",
    "outputId": "bc78c116-0813-4a88-bc95-e242bc3c912d"
   },
   "outputs": [],
   "source": [
    "df.info()"
   ]
  },
  {
   "cell_type": "markdown",
   "metadata": {
    "id": "Dn_anyhYBygq"
   },
   "source": [
    "# Traitement des valeurs nulles et des valeurs aberrantes"
   ]
  },
  {
   "cell_type": "code",
   "execution_count": null,
   "metadata": {
    "id": "joqXHKKzljnU"
   },
   "outputs": [],
   "source": []
  },
  {
   "cell_type": "code",
   "execution_count": null,
   "metadata": {
    "colab": {
     "base_uri": "https://localhost:8080/"
    },
    "id": "aD9291ob_8RQ",
    "outputId": "d9465882-45d7-4b07-983d-aa02ef4b8610"
   },
   "outputs": [],
   "source": [
    "# Vérifier le nombre de valeurs NaN par colonne\n",
    "df.isnull().sum()\n",
    "# Calculer le pourcentage de valeurs NaN par colonne\n",
    "nan_percentage = (df.isnull().sum() / len(df) * 100).round(2)\n",
    "\n",
    "# Trier les pourcentages du plus grand au plus petit\n",
    "sorted_nan_percentage = nan_percentage.sort_values(ascending=False)\n",
    "\n",
    "# Afficher les résultats\n",
    "print(\"Pourcentages de valeur NaN par colonne\")\n",
    "print(sorted_nan_percentage)"
   ]
  },
  {
   "cell_type": "code",
   "execution_count": null,
   "metadata": {
    "colab": {
     "base_uri": "https://localhost:8080/",
     "height": 523
    },
    "id": "giKWKsX3QrC3",
    "outputId": "7d52e02f-d76c-480f-a022-695dfb0fad57"
   },
   "outputs": [],
   "source": [
    "\n",
    "\n",
    "# Calculate the number of null values per column\n",
    "nan_counts = df.isnull().sum()\n",
    "\n",
    "# Calculate the percentage of null values per column\n",
    "nan_percentage = (nan_counts / len(df) * 100).round(2)\n",
    "\n",
    "# Create a DataFrame to present the results\n",
    "nan_df = pd.DataFrame({\n",
    "    'Nombre de valeurs nulles': nan_counts,\n",
    "    'Pourcentage de valeurs nulles (%)': nan_percentage\n",
    "})\n",
    "\n",
    "# Filter to keep only columns with at least one null value\n",
    "nan_df = nan_df[nan_df['Nombre de valeurs nulles'] > 0]\n",
    "\n",
    "# Sort the DataFrame in descending order of the number of null values\n",
    "nan_df = nan_df.sort_values(by='Nombre de valeurs nulles', ascending=False)\n",
    "\n",
    "# Now you can check if nan_df is empty\n",
    "if nan_df.empty:\n",
    "    print(\"\\nAucune colonne ne contient de valeurs nulles.\")\n",
    "else:\n",
    "    # Get the names of columns without null values\n",
    "    no_nan_cols = df.columns[df.isnull().sum() == 0]\n",
    "    if len(no_nan_cols) > 0:\n",
    "        print(\"\\nLes colonnes suivantes n'ont pas de valeurs nulles :\")\n",
    "        for col in no_nan_cols:\n",
    "            print(f\"- {col}\")\n",
    "    else:\n",
    "        print(\"\\nToutes les colonnes contiennent des valeurs nulles.\")\n",
    "\n",
    "# Display the DataFrame\n",
    "nan_df"
   ]
  },
  {
   "cell_type": "code",
   "execution_count": null,
   "metadata": {
    "colab": {
     "base_uri": "https://localhost:8080/"
    },
    "id": "QqJCFX8ABw8J",
    "outputId": "5ab1892d-86eb-4de0-ce31-cc7728833f0e"
   },
   "outputs": [],
   "source": [
    "# Colonnes relatives à la circonférence et à la hauteur\n",
    "target_cols = ['circonference_cm', 'hauteur_m']  # Assurez-vous que les noms des colonnes correspondent exactement\n",
    "\n",
    "# Parcourir chaque colonne cible\n",
    "for col in target_cols:\n",
    "    # Calcul des statistiques de base\n",
    "    std_dev = df[col].std()\n",
    "    min_val = df[col].min()\n",
    "    max_val = df[col].max()\n",
    "    zero_count = (df[col] == 0).sum()  # Nombre de valeurs égales à 0\n",
    "    Q1 = df[col].quantile(0.25)\n",
    "    Q3 = df[col].quantile(0.75)\n",
    "    IQR = Q3 - Q1\n",
    "    lower_bound = Q1 - 1.5 * IQR\n",
    "    upper_bound = Q3 + 1.5 * IQR\n",
    "\n",
    "    # Identifier les valeurs aberrantes\n",
    "    outliers = df[(df[col] < lower_bound) | (df[col] > upper_bound)]\n",
    "    outlier_count = len(outliers)\n",
    "    outlier_percentage = (outlier_count / len(df)) * 100\n",
    "\n",
    "    # Afficher les statistiques\n",
    "    print(f\"\\nStatistiques pour la colonne '{col}' :\")\n",
    "    print(f\"- Écart-type : {std_dev:.2f}\")\n",
    "    print(f\"- Valeur minimale : {min_val}\")\n",
    "    print(f\"- Valeur maximale : {max_val}\")\n",
    "    print(f\"- Nombre de valeurs égales à zéro : {zero_count}\")\n",
    "    print(f\"- Nombre de valeurs aberrantes : {outlier_count}\")\n",
    "    print(f\"- Pourcentage de valeurs aberrantes : {outlier_percentage:.2f}%\")\n",
    "\n",
    "    # Analyse légère des résultats\n",
    "    if outlier_percentage > 5:\n",
    "        print(f\"  -> La colonne '{col}' a un pourcentage élevé de valeurs aberrantes ({outlier_percentage:.2f}%). \"\n",
    "              f\"Cela peut indiquer une forte variabilité dans les données ou la présence de valeurs extrêmes.\")\n",
    "    else:\n",
    "        print(f\"  -> La colonne '{col}' a un pourcentage faible de valeurs aberrantes ({outlier_percentage:.2f}%). \"\n",
    "              f\"Cela suggère une distribution plus homogène sans valeurs extrêmes majeures.\")\n",
    "\n",
    "    if std_dev > (max_val - min_val) / 4:\n",
    "        print(f\"  -> L'écart-type élevé par rapport à l'amplitude (max-min) pour '{col}' indique une dispersion importante.\")\n",
    "    else:\n",
    "        print(f\"  -> L'écart-type relativement faible pour '{col}' montre une faible dispersion autour de la moyenne.\")\n"
   ]
  },
  {
   "cell_type": "markdown",
   "metadata": {
    "id": "3PIWZAED8MEE"
   },
   "source": [
    "On remarque ici beaucoup d'arbres dont la valeur minimal est à 0 sur ces 2 colonne cela pourrait etre un code interne, je ne modifie pas cette données, je vérifie/\n",
    "-- est ce que ce à est sur les meme arbres a chaque fois ou est il dispersé dans le df"
   ]
  },
  {
   "cell_type": "markdown",
   "metadata": {
    "id": "y7wYbLhH9vGJ"
   },
   "source": [
    "## Analyse sur ces 0"
   ]
  },
  {
   "cell_type": "code",
   "execution_count": null,
   "metadata": {
    "id": "jBrtVHuT9u03"
   },
   "outputs": [],
   "source": []
  },
  {
   "cell_type": "code",
   "execution_count": null,
   "metadata": {
    "colab": {
     "base_uri": "https://localhost:8080/",
     "height": 523
    },
    "id": "jgwAMwC39sor",
    "outputId": "2533e40e-5ed3-4381-b988-a59a775c8268"
   },
   "outputs": [],
   "source": [
    "import matplotlib.pyplot as plt\n",
    "\n",
    "# Données des comptes obtenus\n",
    "nb_circonference_zero = 25867\n",
    "nb_hauteur_zero = 39219\n",
    "nb_both_zero = 25501\n",
    "\n",
    "# Calcul des seuls circonférence ou hauteur à zéro\n",
    "only_circonference_zero = nb_circonference_zero - nb_both_zero\n",
    "only_hauteur_zero = nb_hauteur_zero - nb_both_zero\n",
    "\n",
    "# Création du diagramme de Venn\n",
    "fig, ax = plt.subplots(figsize=(8, 6))\n",
    "\n",
    "# Cercle pour les arbres ayant une circonférence de 0 (en bleu pastel)\n",
    "circle1 = plt.Circle((0.3, 0.5), 0.3, color=\"lightblue\", alpha=0.5, label=\"Circonférence = 0\")\n",
    "ax.add_patch(circle1)\n",
    "ax.text(0.2, 0.5, f\"{only_circonference_zero}\", ha=\"center\", va=\"center\", fontsize=12, color=\"black\")\n",
    "\n",
    "# Cercle pour les arbres ayant une hauteur de 0 (en rouge pastel)\n",
    "circle2 = plt.Circle((0.6, 0.5), 0.3, color=\"lightcoral\", alpha=0.5, label=\"Hauteur = 0\")\n",
    "ax.add_patch(circle2)\n",
    "ax.text(0.7, 0.5, f\"{only_hauteur_zero}\", ha=\"center\", va=\"center\", fontsize=12, color=\"black\")\n",
    "\n",
    "# Zone de recouvrement pour les deux zéros\n",
    "ax.text(0.45, 0.5, f\"{nb_both_zero}\", ha=\"center\", va=\"center\", fontsize=12, color=\"black\")\n",
    "\n",
    "# Titre et légende\n",
    "ax.set_title(\"Distribution des valeurs nulles pour la circonférence et la hauteur des arbres\", fontsize=14)\n",
    "plt.legend(loc=\"upper left\", fontsize=10)\n",
    "ax.set_aspect(\"equal\")\n",
    "ax.axis(\"off\")\n",
    "\n",
    "# Affichage du graphique\n",
    "plt.show()\n"
   ]
  },
  {
   "cell_type": "markdown",
   "metadata": {
    "id": "sS9qidHB8Fly"
   },
   "source": [
    "Ces arbres avec 0 ... Mais qui etes vous?"
   ]
  },
  {
   "cell_type": "code",
   "execution_count": null,
   "metadata": {
    "colab": {
     "base_uri": "https://localhost:8080/"
    },
    "id": "aY5JUOrA_LPu",
    "outputId": "125b03b6-52bd-4932-fd02-9adc9880973e"
   },
   "outputs": [],
   "source": [
    "# Séparer les arbres avec et sans valeurs nulles dans les deux colonnes\n",
    "df_both_zero = df[(df['circonference_cm'] == 0) & (df['hauteur_m'] == 0)]\n",
    "df_non_zero = df[(df['circonference_cm'] != 0) | (df['hauteur_m'] != 0)]\n",
    "\n",
    "# Calculer les statistiques descriptives\n",
    "print(\"Statistiques descriptives pour les arbres avec circonférence et hauteur = 0\")\n",
    "print(df_both_zero.describe(include='all'))\n",
    "print(\"\\nStatistiques descriptives pour les arbres avec des valeurs non nulles\")\n",
    "print(df_non_zero.describe(include='all'))\n",
    "\n",
    "# Comparaison par genre et espèce\n",
    "genre_comparison = pd.DataFrame({\n",
    "    'Avec zeros (genre)': df_both_zero['genre'].value_counts(normalize=True),\n",
    "    'Sans zeros (genre)': df_non_zero['genre'].value_counts(normalize=True)\n",
    "}).fillna(0)\n",
    "\n",
    "espece_comparison = pd.DataFrame({\n",
    "    'Avec zeros (espece)': df_both_zero['espece'].value_counts(normalize=True),\n",
    "    'Sans zeros (espece)': df_non_zero['espece'].value_counts(normalize=True)\n",
    "}).fillna(0)\n",
    "\n",
    "# Afficher les comparaisons de genre et d'espèce\n",
    "print(\"\\nComparaison de la répartition des genres entre les groupes :\")\n",
    "print(genre_comparison)\n",
    "\n",
    "print(\"\\nComparaison de la répartition des espèces entre les groupes :\")\n",
    "print(espece_comparison)\n",
    "\n",
    "# Comparaison par arrondissement\n",
    "arrondissement_comparison = pd.DataFrame({\n",
    "    'Avec zeros': df_both_zero['arrondissement'].value_counts(normalize=True),\n",
    "    'Sans zeros': df_non_zero['arrondissement'].value_counts(normalize=True)\n",
    "}).fillna(0)\n",
    "\n",
    "print(\"\\nComparaison de la répartition par arrondissement entre les groupes :\")\n",
    "print(arrondissement_comparison)\n"
   ]
  },
  {
   "cell_type": "code",
   "execution_count": null,
   "metadata": {
    "colab": {
     "base_uri": "https://localhost:8080/",
     "height": 1000
    },
    "id": "yr0aQtT7Fvts",
    "outputId": "340a8963-ed87-461a-e6eb-11a42b8880b2"
   },
   "outputs": [],
   "source": [
    "import matplotlib.pyplot as plt\n",
    "import seaborn as sns\n",
    "\n",
    "# Séparer les arbres avec et sans valeurs nulles dans les deux colonnes\n",
    "df_both_zero = df[(df['circonference_cm'] == 0) & (df['hauteur_m'] == 0)]\n",
    "df_non_zero = df[(df['circonference_cm'] != 0) | (df['hauteur_m'] != 0)]\n",
    "\n",
    "# Définir des couleurs pour les graphiques\n",
    "colors = [\"#FFA07A\", \"#20B2AA\"]\n",
    "\n",
    "# 1. Comparaison des genres\n",
    "genre_comparison = pd.DataFrame({\n",
    "    'Avec zeros': df_both_zero['genre'].value_counts(normalize=True),\n",
    "    'Sans zeros': df_non_zero['genre'].value_counts(normalize=True)\n",
    "}).fillna(0)\n",
    "\n",
    "# Diagramme en barres empilé pour la répartition des genres\n",
    "genre_comparison.plot(kind='bar', stacked=True, color=colors, figsize=(10, 6))\n",
    "plt.title(\"Répartition des genres d'arbres avec et sans valeurs nulles\")\n",
    "plt.ylabel(\"Proportion\")\n",
    "plt.xlabel(\"Genre\")\n",
    "plt.legend([\"Avec zeros\", \"Sans zeros\"])\n",
    "plt.xticks(rotation=45)\n",
    "plt.show()\n",
    "\n",
    "# 2. Comparaison des espèces\n",
    "espece_comparison = pd.DataFrame({\n",
    "    'Avec zeros': df_both_zero['espece'].value_counts(normalize=True).head(10),\n",
    "    'Sans zeros': df_non_zero['espece'].value_counts(normalize=True).head(10)\n",
    "}).fillna(0)\n",
    "\n",
    "# Diagramme en barres empilé pour la répartition des espèces\n",
    "espece_comparison.plot(kind='bar', stacked=True, color=colors, figsize=(10, 6))\n",
    "plt.title(\"Top 10 des espèces d'arbres avec et sans valeurs nulles\")\n",
    "plt.ylabel(\"Proportion\")\n",
    "plt.xlabel(\"Espèce\")\n",
    "plt.legend([\"Avec zeros\", \"Sans zeros\"])\n",
    "plt.xticks(rotation=45)\n",
    "plt.show()\n",
    "\n",
    "# 3. Répartition géographique par arrondissement\n",
    "arrondissement_comparison = pd.DataFrame({\n",
    "    'Avec zeros': df_both_zero['arrondissement'].value_counts(normalize=True),\n",
    "    'Sans zeros': df_non_zero['arrondissement'].value_counts(normalize=True)\n",
    "}).fillna(0)\n",
    "\n",
    "# Diagramme en barres empilé pour la répartition par arrondissement\n",
    "arrondissement_comparison.plot(kind='bar', stacked=True, color=colors, figsize=(10, 6))\n",
    "plt.title(\"Répartition par arrondissement des arbres avec et sans valeurs nulles\")\n",
    "plt.ylabel(\"Proportion\")\n",
    "plt.xlabel(\"Arrondissement\")\n",
    "plt.legend([\"Avec zeros\", \"Sans zeros\"])\n",
    "plt.xticks(rotation=45)\n",
    "plt.show()\n",
    "\n",
    "# 4. Statistiques descriptives supplémentaires (Boxplots)\n",
    "numeric_cols = ['circonference_cm', 'hauteur_m']  # Adapter pour inclure d'autres colonnes numériques si disponibles\n",
    "df_both_zero['type'] = 'Avec zeros'\n",
    "df_non_zero['type'] = 'Sans zeros'\n",
    "combined_df = pd.concat([df_both_zero, df_non_zero])\n",
    "\n",
    "\n",
    "# Définir les couleurs pour les graphiques\n",
    "colors = [\"#FFA07A\", \"#20B2AA\"]\n",
    "\n",
    "# Ajouter une colonne 'type' pour distinguer les groupes\n",
    "df_both_zero['type'] = 'Avec zeros'\n",
    "df_non_zero['type'] = 'Sans zeros'\n",
    "combined_df = pd.concat([df_both_zero, df_non_zero])\n",
    "\n",
    "# Colonnes numériques à analyser\n",
    "numeric_cols = ['circonference_cm', 'hauteur_m']\n",
    "\n",
    "# Boxplots avec échelle logarithmique\n",
    "for col in numeric_cols:\n",
    "    plt.figure(figsize=(8, 5))\n",
    "    sns.boxplot(data=combined_df, x='type', y=col, palette=colors)\n",
    "    plt.yscale('log')  # Applique l'échelle logarithmique sur l'axe Y\n",
    "    plt.title(f\"Comparaison des {col} entre arbres avec et sans valeurs nulles (échelle log)\")\n",
    "    plt.ylabel(f\"{col.capitalize()} (échelle logarithmique)\")\n",
    "    plt.xlabel(\"Type d'arbre\")\n",
    "    plt.show()\n"
   ]
  },
  {
   "cell_type": "code",
   "execution_count": null,
   "metadata": {
    "colab": {
     "base_uri": "https://localhost:8080/",
     "height": 559
    },
    "id": "Tq3fsdcMjWwk",
    "outputId": "dab325f1-7375-4158-f5dc-2ad29c64f1c0"
   },
   "outputs": [],
   "source": [
    "import matplotlib.pyplot as plt\n",
    "import seaborn as sns\n",
    "import numpy as np\n",
    "\n",
    "# Fonction pour détecter les outliers selon la méthode de Tukey\n",
    "def detect_outliers(data, col):\n",
    "    Q1 = data[col].quantile(0.25)\n",
    "    Q3 = data[col].quantile(0.75)\n",
    "    IQR = Q3 - Q1\n",
    "    lower_bound = Q1 - 1.5 * IQR\n",
    "    upper_bound = Q3 + 1.5 * IQR\n",
    "    outliers = data[(data[col] < lower_bound) | (data[col] > upper_bound)]\n",
    "    return outliers\n",
    "\n",
    "# Identifier les outliers pour chaque groupe\n",
    "outliers_both_zero_circ = detect_outliers(df_both_zero, 'circonference_cm')\n",
    "outliers_non_zero_circ = detect_outliers(df_non_zero, 'circonference_cm')\n",
    "\n",
    "outliers_both_zero_haut = detect_outliers(df_both_zero, 'hauteur_m')\n",
    "outliers_non_zero_haut = detect_outliers(df_non_zero, 'hauteur_m')\n",
    "\n",
    "# Visualiser les outliers sur un scatterplot pour la circonférence\n",
    "plt.figure(figsize=(10, 6))\n",
    "sns.scatterplot(data=df_both_zero, x='type', y='circonference_cm', color=colors[0], label=\"Avec zeros\", alpha=0.6)\n",
    "sns.scatterplot(data=df_non_zero, x='type', y='circonference_cm', color=colors[1], label=\"Sans zeros\", alpha=0.6)\n",
    "sns.scatterplot(data=outliers_both_zero_circ, x='type', y='circonference_cm', color='red', marker='o', s=100, label=\"Outliers (Avec zeros)\")\n",
    "sns.scatterplot(data=outliers_non_zero_circ, x='type', y='circonference_cm', color='blue', marker='o', s=100, label=\"Outliers (Sans zeros)\")\n"
   ]
  },
  {
   "cell_type": "markdown",
   "metadata": {
    "id": "F_ACCyVJ7aHy"
   },
   "source": [
    "## Distinction des valeurs aberrantes des valeurs atypiques\n"
   ]
  },
  {
   "cell_type": "markdown",
   "metadata": {
    "id": "jTbvIfuwkPG1"
   },
   "source": [
    "Pour distinguer les valeurs aberrantes des valeurs atypiques dans les colonnes du dataset, voici les approches que l’on peut suivre. Bien que souvent utilisés de manière interchangeable, ces termes représentent deux concepts distincts en statistique et en analyse de données :\n",
    "\n",
    "Valeurs aberrantes (outliers) :\n",
    "\n",
    "Ce sont des données situées loin des autres observations et qui peuvent souvent être attribuées à des erreurs de mesure, des valeurs incorrectes ou des événements rares.\n",
    "On les identifie en général par des techniques comme l’intervalle interquartile (IQR) ou en appliquant des z-scores pour repérer les données très éloignées de la moyenne.\n",
    "Valeurs atypiques (anomalies) :\n",
    "\n",
    "Contrairement aux valeurs aberrantes, les valeurs atypiques ne sont pas forcément des erreurs. Ce sont des observations qui, bien que différentes du reste des données, peuvent représenter des sous-groupes significatifs ou des segments distincts.\n",
    "Par exemple, une très grande circonférence pourrait être typique pour une espèce d’arbres spécifique, sans pour autant être une erreur.\n",
    "Étapes pour les distinguer\n",
    "Pour les colonnes circonference_cm et hauteur_m, nous pouvons :\n",
    "\n",
    "1. Identifier les valeurs aberrantes avec l’intervalle interquartile (IQR) ou les z-scores\n",
    "IQR : Calculer les quartiles (Q1 et Q3) et définir les valeurs aberrantes comme les points au-delà de\n",
    "𝑄\n",
    "1\n",
    "−\n",
    "1.5\n",
    "×\n",
    "𝐼\n",
    "𝑄\n",
    "𝑅\n",
    "Q1−1.5×IQR et\n",
    "𝑄\n",
    "3\n",
    "+\n",
    "1.5\n",
    "×\n",
    "𝐼\n",
    "𝑄\n",
    "𝑅\n",
    "Q3+1.5×IQR.\n",
    "Z-score : Calculer le score z (nombre d'écarts-types par rapport à la moyenne) et marquer les données ayant un z-score supérieur à un certain seuil, souvent fixé à 3.\n",
    "2. Je vais ici isoler et identifier les valeurs atypiques en appliquant un clustering\n",
    "Utiliser des algorithmes de regroupement (clustering) Isolation Forest (un modèle de machine learning non supervisé pour identifier les anomalies).\n",
    "Les valeurs atypiques seront identifiées comme des observations appartenant à des clusters distincts ou isolées par rapport aux autres données."
   ]
  },
  {
   "cell_type": "code",
   "execution_count": null,
   "metadata": {
    "id": "faTnrWk2kO8E"
   },
   "outputs": [],
   "source": []
  },
  {
   "cell_type": "code",
   "execution_count": null,
   "metadata": {
    "colab": {
     "base_uri": "https://localhost:8080/"
    },
    "id": "CRUAAy3uOiPb",
    "outputId": "cffe3670-3989-4827-8bd3-491f5da30082"
   },
   "outputs": [],
   "source": [
    "from sklearn.ensemble import IsolationForest\n",
    "# Identification des valeurs aberrantes avec l'IQR\n",
    "def detect_outliers_iqr(data, column):\n",
    "    Q1 = data[column].quantile(0.25)\n",
    "    Q3 = data[column].quantile(0.75)\n",
    "    IQR = Q3 - Q1\n",
    "    lower_bound = Q1 - 1.5 * IQR\n",
    "    upper_bound = Q3 + 1.5 * IQR\n",
    "    return data[(data[column] < lower_bound) | (data[column] > upper_bound)]\n",
    "\n",
    "outliers_circonference = detect_outliers_iqr(df, \"circonference_cm\")\n",
    "outliers_hauteur = detect_outliers_iqr(df, \"hauteur_m\")\n",
    "\n",
    "# Identification des valeurs atypiques avec Isolation Forest\n",
    "isolation_forest = IsolationForest(contamination=0.05, random_state=42)\n",
    "df['anomalie_score'] = isolation_forest.fit_predict(df[['circonference_cm', 'hauteur_m']])\n",
    "\n",
    "# Les valeurs avec un score de -1 sont marquées comme atypiques par Isolation Forest\n",
    "atypiques = df[df['anomalie_score'] == -1]\n",
    "\n",
    "# Affichage des résultats\n",
    "print(\"Valeurs aberrantes (IQR) pour la circonférence:\", outliers_circonference)\n",
    "print(\"Valeurs aberrantes (IQR) pour la hauteur:\", outliers_hauteur)\n",
    "print(\"Valeurs atypiques (Isolation Forest):\", atypiques)\n"
   ]
  },
  {
   "cell_type": "code",
   "execution_count": null,
   "metadata": {
    "colab": {
     "base_uri": "https://localhost:8080/",
     "height": 1000
    },
    "id": "ZqnBht5ElmzS",
    "outputId": "d87f7ef4-f854-4f00-cf4e-ea7d4534f703"
   },
   "outputs": [],
   "source": [
    "\n",
    "\n",
    "plt.figure(figsize=(12, 8))\n",
    "\n",
    "# Carte thermique pour la densité\n",
    "sns.kdeplot(data=df, x=\"circonference_cm\", y=\"hauteur_m\", fill=True, cmap=\"Blues\", alpha=0.6)\n",
    "\n",
    "# Superposition des valeurs atypiques\n",
    "plt.scatter(atypiques['circonference_cm'], atypiques['hauteur_m'], color='green', label='Atypiques', alpha=0.7)\n",
    "\n",
    "plt.xlabel(\"Circonférence (cm)\")\n",
    "plt.ylabel(\"Hauteur (m)\")\n",
    "plt.title(\"Densité des arbres avec valeurs atypiques\")\n",
    "plt.legend()\n",
    "plt.show()\n"
   ]
  },
  {
   "cell_type": "markdown",
   "metadata": {
    "id": "kPO1f8w1lrLa"
   },
   "source": [
    ". Calcul de l'âge estimé pour chaque arbre\n",
    "En utilisant des facteurs de croissance moyens par espèce, nous allons ajouter une colonne age_estime dans notre DataFrame. Pour chaque arbre, nous calculons :\n",
    "\n",
    "A\n",
    "ˆ\n",
    "ge estim\n",
    "e\n",
    "ˊ\n",
    "=\n",
    "Circonf\n",
    "e\n",
    "ˊ\n",
    "rence (cm)\n",
    "Facteur de croissance (cm/an)\n",
    "A\n",
    "ˆ\n",
    " ge estim\n",
    "e\n",
    "ˊ\n",
    " =\n",
    "Facteur de croissance (cm/an)\n",
    "Circonf\n",
    "e\n",
    "ˊ\n",
    " rence (cm)\n",
    "​\n",
    "\n",
    "Les taux de croissance moyens sont approximés comme suit :\n",
    "\n",
    "Chêne : 1,25 cm/an\n",
    "Érable : 1,5 cm/an\n",
    "Pin : 0,5 cm/an\n",
    "Bouleau : 1 cm/an\n",
    "2. Comparaison des âges estimés avec les distributions pour identifier les valeurs atypiques et aberrantes\n",
    "Nous allons calculer les valeurs aberrantes et atypiques en analysant les âges estimés pour vérifier si certaines valeurs de circonférence sont réalistes pour l'âge obtenu par ces facteurs."
   ]
  },
  {
   "cell_type": "code",
   "execution_count": null,
   "metadata": {
    "colab": {
     "base_uri": "https://localhost:8080/",
     "height": 719
    },
    "id": "9qVOo4UhFjmN",
    "outputId": "1eaabcd2-0653-4ef5-9e73-f9f84f5d9fae"
   },
   "outputs": [],
   "source": [
    "\n",
    "# Facteurs de croissance par espèce\n",
    "facteurs_croissance = {\n",
    "    'Chêne': 1.25,\n",
    "    'Érable': 1.5,\n",
    "    'Pin': 0.5,\n",
    "    'Bouleau': 1.0,\n",
    "    # Ajouter d'autres espèces avec des facteurs spécifiques si connus\n",
    "}\n",
    "\n",
    "# Fonction pour calculer l'âge estimé\n",
    "def calcul_age_estime(row):\n",
    "    facteur = facteurs_croissance.get(row['genre'], 1)  # Utilisation de 1 cm/an si le genre n'est pas dans le dictionnaire\n",
    "    return row['circonference_cm'] / facteur if facteur > 0 else np.nan\n",
    "\n",
    "# Application de la fonction pour obtenir l'âge estimé\n",
    "df['age_estime'] = df.apply(calcul_age_estime, axis=1)\n",
    "\n",
    "# Identifier les valeurs aberrantes basées sur l'âge estimé\n",
    "def detect_outliers_by_age(data, column):\n",
    "    Q1 = data[column].quantile(0.25)\n",
    "    Q3 = data[column].quantile(0.75)\n",
    "    IQR = Q3 - Q1\n",
    "    lower_bound = Q1 - 1.5 * IQR\n",
    "    upper_bound = Q3 + 1.5 * IQR\n",
    "    return data[(data[column] < lower_bound) | (data[column] > upper_bound)]\n",
    "\n",
    "outliers_age = detect_outliers_by_age(df, 'age_estime')\n",
    "\n",
    "# Visualisation : Diagramme de dispersion avec couleurs pour les valeurs aberrantes d'âge\n",
    "import matplotlib.pyplot as plt\n",
    "\n",
    "plt.figure(figsize=(12, 8))\n",
    "plt.scatter(df['circonference_cm'], df['hauteur_m'], color='blue', label='Normaux', alpha=0.5)\n",
    "plt.scatter(outliers_age['circonference_cm'], outliers_age['hauteur_m'], color='red', label='Valeurs aberrantes d\\'âge', alpha=0.7)\n",
    "\n",
    "plt.xlabel(\"Circonférence (cm)\")\n",
    "plt.ylabel(\"Hauteur (m)\")\n",
    "plt.title(\"Distribution des arbres avec valeurs aberrantes en fonction de l'âge estimé\")\n",
    "plt.legend()\n",
    "plt.show()\n"
   ]
  },
  {
   "cell_type": "code",
   "execution_count": null,
   "metadata": {
    "colab": {
     "base_uri": "https://localhost:8080/",
     "height": 356
    },
    "id": "OSJYDiMMG1xR",
    "outputId": "2fcd70c8-6c90-407d-f047-b675a4d1c264"
   },
   "outputs": [],
   "source": [
    "# Étape 1 : Importer les librairies nécessaires\n",
    "import plotly.express as px\n",
    "import plotly.graph_objects as go\n",
    "\n",
    "# Étape 2 : Sélectionner les colonnes pour le nuage de points\n",
    "cols_to_plot = ['circonferenceencm', 'hauteurenm']\n",
    "\n",
    "# Vérifier et convertir les colonnes en numériques si nécessaire\n",
    "df[cols_to_plot] = df[cols_to_plot].apply(pd.to_numeric, errors='coerce')\n",
    "\n",
    "# Supprimer les lignes avec des valeurs manquantes dans les colonnes sélectionnées\n",
    "df_clean = df.dropna(subset=cols_to_plot + ['espece', 'libellefrancais'])\n",
    "\n",
    "# Étape 3 : Créer le nuage de points principal\n",
    "fig = px.scatter(\n",
    "    df_clean,\n",
    "    x=cols_to_plot[0],\n",
    "    y=cols_to_plot[1],\n",
    "    color=\"espece\",\n",
    "    hover_data=['libellefrancais'],\n",
    "    title=\"Nuage de points avec outliers\"\n",
    ")\n",
    "\n",
    "# Étape 4 : Identifier les outliers avec la méthode IQR\n",
    "Q1_hauteur = df_clean[cols_to_plot[1]].quantile(0.25)\n",
    "Q3_hauteur = df_clean[cols_to_plot[1]].quantile(0.75)\n",
    "IQR_hauteur = Q3_hauteur - Q1_hauteur\n",
    "lower_bound_hauteur = Q1_hauteur - 1.5 * IQR_hauteur\n",
    "upper_bound_hauteur = Q3_hauteur + 1.5 * IQR_hauteur\n",
    "\n",
    "Q1_circonference = df_clean[cols_to_plot[0]].quantile(0.25)\n",
    "Q3_circonference = df_clean[cols_to_plot[0]].quantile(0.75)\n",
    "IQR_circonference = Q3_circonference - Q1_circonference\n",
    "lower_bound_circonference = Q1_circonference - 1.5 * IQR_circonference\n",
    "upper_bound_circonference = Q3_circonference + 1.5 * IQR_circonference\n",
    "\n",
    "# Étape 5 : Combiner les outliers des deux colonnes\n",
    "outliers = df_clean[\n",
    "    (df_clean[cols_to_plot[1]] < lower_bound_hauteur) | (df_clean[cols_to_plot[1]] > upper_bound_hauteur) |\n",
    "    (df_clean[cols_to_plot[0]] < lower_bound_circonference) | (df_clean[cols_to_plot[0]] > upper_bound_circonference)\n",
    "]\n",
    "\n",
    "# Étape 6 : Vérifier si des outliers ont été détectés\n",
    "if outliers.empty:\n",
    "    print(\"Aucune valeur aberrante détectée.\")\n",
    "else:\n",
    "    # Étape 7 : Mettre en évidence les outliers dans le graphique\n",
    "    fig.add_trace(go.Scatter(\n",
    "        x=outliers[cols_to_plot[0]],\n",
    "        y=outliers[cols_to_plot[1]],\n",
    "        mode='markers',\n",
    "        marker=dict(size=12, color='red', symbol='x'),\n",
    "        name='Outliers',\n",
    "        text=outliers['libellefrancais'],\n",
    "        hovertemplate='<b>%{text}</b><br>Circonférence: %{x}<br>Hauteur: %{y}<extra></extra>'\n",
    "    ))\n",
    "\n",
    "# Étape 8 : Afficher le graphique\n",
    "fig.show()\n"
   ]
  },
  {
   "cell_type": "code",
   "execution_count": null,
   "metadata": {
    "id": "MfoEemGoF2td"
   },
   "outputs": [],
   "source": [
    "# Afficher le nombre d'outliers par espèce\n",
    "outliers_by_species = outliers['espece'].value_counts()\n",
    "print(outliers_by_species)\n",
    "\n",
    "# Visualiser la distribution avec un diagramme en barres\n",
    "import plotly.express as px\n",
    "fig = px.bar(outliers_by_species, x=outliers_by_species.index, y=outliers_by_species.values,\n",
    "             title=\"Nombre d'outliers par espèce\")\n",
    "fig.show()"
   ]
  },
  {
   "cell_type": "code",
   "execution_count": null,
   "metadata": {
    "id": "WkthLYI7IS33"
   },
   "outputs": [],
   "source": [
    "import plotly.express as px\n",
    "\n",
    "# Sélectionner les espèces à inclure\n",
    "selected_species = ['x hispanica', 'hippocastanum', 'orientalis']\n",
    "\n",
    "# Filtrer le DataFrame\n",
    "filtered_df = df_clean[df_clean['espece'].isin(selected_species)]\n",
    "\n",
    "# Créer le nuage de points\n",
    "fig = px.scatter(filtered_df, x='circonferenceencm', y='hauteurenm', color='espece',\n",
    "                 size='circonferenceencm', hover_data=['libellefrancais'],\n",
    "                 title=\"Nuage de points avec outliers (espèces sélectionnées)\")\n",
    "fig.show()"
   ]
  },
  {
   "cell_type": "code",
   "execution_count": null,
   "metadata": {
    "id": "tEnoqpoeIpwp"
   },
   "outputs": [],
   "source": [
    "import plotly.express as px\n",
    "\n",
    "# Sélectionner les espèces à inclure\n",
    "selected_species = ['x hispanica', 'hippocastanum', 'orientalis']\n",
    "\n",
    "# Filtrer le DataFrame\n",
    "filtered_df = df_clean[df_clean['espece'].isin(selected_species)]\n",
    "\n",
    "# Calculer le ratio circonférence/hauteur et ajouter une colonne 'ratio'\n",
    "filtered_df['ratio'] = filtered_df['circonferenceencm'] / filtered_df['hauteurenm']\n",
    "\n",
    "# Créer un scatter plot avec coloration par espèce\n",
    "fig = px.scatter(filtered_df, x='circonferenceencm', y='hauteurenm', color='espece',\n",
    "                 hover_data=['libellefrancais', 'ratio'],\n",
    "                 title=\"Circonférence vs. Hauteur par espèce\")\n",
    "fig.show()"
   ]
  },
  {
   "cell_type": "code",
   "execution_count": null,
   "metadata": {
    "id": "cT0iJWSdIxi_"
   },
   "outputs": [],
   "source": []
  },
  {
   "cell_type": "code",
   "execution_count": null,
   "metadata": {
    "id": "AzpF97iGI3wn"
   },
   "outputs": [],
   "source": [
    "# Filtrer les arbres avec une circonférence supérieure à 700\n",
    "large_trees = df_clean[df_clean['circonferenceencm'] > 700]\n",
    "\n",
    "# Trier les arbres par espèce\n",
    "large_trees_sorted = large_trees.sort_values(by=['espece'])\n",
    "\n",
    "# Afficher les arbres filtrés et triés\n",
    "print(large_trees_sorted[['libellefrancais', 'espece', 'circonferenceencm', 'hauteurenm']])"
   ]
  },
  {
   "cell_type": "code",
   "execution_count": null,
   "metadata": {
    "id": "ByXqfYcZJed_"
   },
   "outputs": [],
   "source": []
  },
  {
   "cell_type": "code",
   "execution_count": null,
   "metadata": {
    "id": "4POUxpFTJe4i"
   },
   "outputs": [],
   "source": [
    "import plotly.express as px\n",
    "import pandas as pd\n",
    "\n",
    "# Sélectionner les espèces à inclure\n",
    "selected_species = ['x hispanica', 'hippocastanum', 'orientalis']\n",
    "\n",
    "# Filtrer le DataFrame\n",
    "filtered_df = df_clean[df_clean['espece'].isin(selected_species)]\n",
    "\n",
    "# Calculer le ratio circonférence/hauteur et ajouter une colonne 'ratio'\n",
    "filtered_df['ratio'] = filtered_df['circonferenceencm'] / filtered_df['hauteurenm']\n",
    "\n",
    "# Créer un scatter plot pour chaque espèce avec les valeurs aberrantes en couleur\n",
    "for species in selected_species:\n",
    "    species_df = filtered_df[filtered_df['espece'] == species]\n",
    "\n",
    "    # Identifier les outliers pour le ratio avec la méthode IQR\n",
    "    Q1 = species_df['ratio'].quantile(0.25)\n",
    "    Q3 = species_df['ratio'].quantile(0.75)\n",
    "    IQR = Q3 - Q1\n",
    "    lower_bound = Q1 - 1.5 * IQR\n",
    "    upper_bound = Q3 + 1.5 * IQR\n",
    "    outliers = species_df[(species_df['ratio'] < lower_bound) | (species_df['ratio'] > upper_bound)]\n",
    "\n",
    "    # Créer le scatter plot avec coloration des outliers\n",
    "    fig = px.scatter(species_df, x='circonferenceencm', y='hauteurenm',\n",
    "                     color=species_df.index.isin(outliers.index),  # Colorer les outliers\n",
    "                     color_discrete_map={False: 'blue', True: 'red'},  # Définir les couleurs\n",
    "                     title=f\"Nuage de points pour {species} (outliers en rouge)\",\n",
    "                     hover_data=['libellefrancais', 'ratio'])\n",
    "    fig.show()"
   ]
  },
  {
   "cell_type": "code",
   "execution_count": null,
   "metadata": {
    "id": "zsxwbb7PJxI8"
   },
   "outputs": [],
   "source": []
  },
  {
   "cell_type": "code",
   "execution_count": null,
   "metadata": {
    "id": "_umY7gP7JyZk"
   },
   "outputs": [],
   "source": [
    "import pandas as pd\n",
    "import plotly.express as px\n",
    "\n",
    "# Sélectionner les espèces à inclure\n",
    "selected_species = ['x hispanica', 'hippocastanum', 'orientalis', 'nigra', 'occidentalis']\n",
    "\n",
    "# Filtrer le DataFrame\n",
    "filtered_df = df_clean[df_clean['espece'].isin(selected_species)]\n",
    "\n",
    "# Calculer le ratio circonférence/hauteur et ajouter une colonne 'ratio'\n",
    "filtered_df['ratio'] = filtered_df['circonferenceencm'] / filtered_df['hauteurenm']\n",
    "\n",
    "# Créer un DataFrame pour stocker les outliers\n",
    "all_outliers = pd.DataFrame()\n",
    "\n",
    "# Parcourir chaque espèce et identifier les outliers\n",
    "for species in selected_species:\n",
    "    species_df = filtered_df[filtered_df['espece'] == species]\n",
    "\n",
    "    # Identifier les outliers pour le ratio avec la méthode IQR\n",
    "    Q1 = species_df['ratio'].quantile(0.25)\n",
    "    Q3 = species_df['ratio'].quantile(0.75)\n",
    "    IQR = Q3 - Q1\n",
    "    lower_bound = Q1 - 1.5 * IQR\n",
    "    upper_bound = Q3 + 1.5 * IQR\n",
    "    outliers = species_df[(species_df['ratio'] < lower_bound) | (species_df['ratio'] > upper_bound)]\n",
    "\n",
    "    # Ajouter les outliers au DataFrame all_outliers\n",
    "    all_outliers = pd.concat([all_outliers, outliers])\n",
    "\n",
    "# Supprimer les outliers du DataFrame filtré\n",
    "filtered_df_no_outliers = filtered_df.drop(all_outliers.index)\n"
   ]
  },
  {
   "cell_type": "code",
   "execution_count": null,
   "metadata": {
    "id": "RKGDnHTqJxFw"
   },
   "outputs": [],
   "source": [
    "all_outliers.info()"
   ]
  },
  {
   "cell_type": "markdown",
   "metadata": {
    "id": "LXD_X-PmL7Gx"
   },
   "source": [
    "2136 arbre sont considéré comme outliers"
   ]
  },
  {
   "cell_type": "code",
   "execution_count": null,
   "metadata": {
    "id": "KEzBxhLoKPXa"
   },
   "outputs": [],
   "source": [
    "import pandas as pd\n",
    "\n",
    "# ... (code précédent pour créer filtered_df et filtered_df_no_outliers) ...\n",
    "\n",
    "# Afficher les statistiques descriptives avant et après suppression des outliers\n",
    "print(\"Statistiques descriptives avant suppression des outliers :\")\n",
    "print(filtered_df[['circonferenceencm', 'hauteurenm']].describe().round(2))\n",
    "\n",
    "print(\"\\nStatistiques descriptives après suppression des outliers :\")\n",
    "print(filtered_df_no_outliers[['circonferenceencm', 'hauteurenm']].describe().round(2))"
   ]
  },
  {
   "cell_type": "code",
   "execution_count": null,
   "metadata": {
    "id": "LnQzmgN2MR_E"
   },
   "outputs": [],
   "source": [
    "import seaborn as sns\n",
    "import matplotlib.pyplot as plt\n",
    "\n",
    "# Sélectionner les espèces à inclure\n",
    "selected_species = ['x hispanica', 'hippocastanum', 'orientalis']\n",
    "\n",
    "# Filtrer le DataFrame\n",
    "filtered_df = df_clean[df_clean['espece'].isin(selected_species)]\n",
    "\n",
    "# Calculer le ratio circonférence/hauteur et ajouter une colonne 'ratio'\n",
    "filtered_df['ratio'] = filtered_df['circonferenceencm'] / filtered_df['hauteurenm']\n",
    "\n",
    "# Créer des box plots pour chaque espèce et chaque variable\n",
    "for variable in ['circonferenceencm', 'hauteurenm', 'ratio']:\n",
    "    plt.figure(figsize=(12, 6))\n",
    "    sns.boxplot(x='espece', y=variable, data=filtered_df)\n",
    "    plt.title(f\"Distribution de {variable} par espèce\")\n",
    "    plt.xticks(rotation=45, ha='right')  # Rotation des étiquettes de l'axe x\n",
    "    plt.show()"
   ]
  },
  {
   "cell_type": "markdown",
   "metadata": {
    "id": "z0evjMjPNe2m"
   },
   "source": [
    "Le but etant d'organiser les tournée, jene peux supprimer d'arbre de mon df, je prends la décision de conserver ces données et de les remplacer par"
   ]
  },
  {
   "cell_type": "code",
   "execution_count": null,
   "metadata": {
    "id": "YMq9kav9MY_d"
   },
   "outputs": [],
   "source": []
  },
  {
   "cell_type": "code",
   "execution_count": null,
   "metadata": {
    "id": "eUe1WRoxP6d6"
   },
   "outputs": [],
   "source": [
    "filtered_df_transformed = filtered_df_no_outliers.copy()"
   ]
  },
  {
   "cell_type": "code",
   "execution_count": null,
   "metadata": {
    "id": "34SnqygYNqLE"
   },
   "outputs": [],
   "source": [
    "from sklearn.impute import SimpleImputer\n",
    "\n",
    "# Créer un imputer pour remplacer les valeurs aberrantes par la médiane\n",
    "imputer = SimpleImputer(strategy='median')\n",
    "\n",
    "# Ajuster l'imputer aux données et transformer les données\n",
    "filtered_df_transformed [['circonferenceencm', 'hauteurenm']] = imputer.fit_transform(filtered_df_no_outliers[['circonferenceencm', 'hauteurenm']])"
   ]
  },
  {
   "cell_type": "code",
   "execution_count": null,
   "metadata": {
    "id": "wR_wypB3Nru5"
   },
   "outputs": [],
   "source": []
  },
  {
   "cell_type": "markdown",
   "metadata": {
    "id": "aMBO3R1gM5CO"
   },
   "source": [
    "Mes df"
   ]
  },
  {
   "cell_type": "code",
   "execution_count": null,
   "metadata": {
    "id": "xUhKwvbhOKSG"
   },
   "outputs": [],
   "source": [
    "\n",
    "# Calculer les statistiques descriptives pour les trois DataFrames\n",
    "original_stats = filtered_df[['circonferenceencm', 'hauteurenm']].describe()\n",
    "no_outliers_stats = filtered_df_no_outliers[['circonferenceencm', 'hauteurenm', 'ratio']].describe()\n",
    "transformed_stats = filtered_df_transformed[['circonferenceencm', 'hauteurenm', 'ratio']].describe()\n",
    "\n",
    "# Renommer les index pour les différencier dans le tableau\n",
    "original_stats.index = pd.MultiIndex.from_product([['Original'], original_stats.index])\n",
    "no_outliers_stats.index = pd.MultiIndex.from_product([['Sans Outliers'], no_outliers_stats.index])\n",
    "transformed_stats.index = pd.MultiIndex.from_product([['Transformé'], transformed_stats.index])\n",
    "transformed_stats\n"
   ]
  },
  {
   "cell_type": "markdown",
   "metadata": {
    "id": "deJgsEi8M498"
   },
   "source": [
    "Je valide la transformation"
   ]
  },
  {
   "cell_type": "code",
   "execution_count": null,
   "metadata": {
    "id": "zUY6Q-PkUIde"
   },
   "outputs": [],
   "source": [
    "transformed_stats"
   ]
  },
  {
   "cell_type": "code",
   "execution_count": null,
   "metadata": {
    "id": "0Fic9x93NsSS"
   },
   "outputs": [],
   "source": [
    "# Remplacer les valeurs aberrantes par la moyenne\n",
    "filtered_df_transformed['circonferenceencm'] = filtered_df_transformed['circonferenceencm'].fillna(filtered_df_no_outliers['circonferenceencm'].mean())\n",
    "filtered_df_transformed['hauteurenm'] = filtered_df_transformed['hauteurenm'].fillna(filtered_df_no_outliers['hauteurenm'].mean())"
   ]
  },
  {
   "cell_type": "code",
   "execution_count": null,
   "metadata": {
    "id": "UTvoK5KAJxCy"
   },
   "outputs": [],
   "source": [
    " # Nombre d'arbres par espèces dont les données ont été transformées\n",
    " filtered_df_transformed[filtered_df_transformed.index.isin(all_outliers.index)]['espece'].value_counts()"
   ]
  },
  {
   "cell_type": "code",
   "execution_count": null,
   "metadata": {
    "id": "w7PT78yYJw6J"
   },
   "outputs": [],
   "source": [
    "\n",
    "print(filtered_df_transformed.columns)"
   ]
  },
  {
   "cell_type": "code",
   "execution_count": null,
   "metadata": {
    "id": "Y4hSbgVFasLi"
   },
   "outputs": [],
   "source": [
    "data = filtered_df_transformed.drop(columns=['complementdresse','numero',\"varieteoucultivar\"])"
   ]
  },
  {
   "cell_type": "code",
   "execution_count": null,
   "metadata": {
    "id": "6BrVqtLvatPw"
   },
   "outputs": [],
   "source": [
    "data.sample(5)"
   ]
  },
  {
   "cell_type": "code",
   "execution_count": null,
   "metadata": {
    "id": "jm_1UVmkj-Re"
   },
   "outputs": [],
   "source": [
    "df.describe().round(2)"
   ]
  },
  {
   "cell_type": "code",
   "execution_count": null,
   "metadata": {
    "id": "8leuDlCFW-FV"
   },
   "outputs": [],
   "source": [
    "\n",
    "# Liste des variables à analyser\n",
    "variables = ['circonference_cm', 'hauteur_m']\n",
    "fig, axes = plt.subplots(nrows=1, ncols=len(variables), figsize=(15, 8))\n",
    "fig.suptitle(\"Boîtes à Moustaches des Dimensions des Arbres (avec valeurs aberrantes)\")\n",
    "\n",
    "for i, var in enumerate(variables):\n",
    "    # Création de la boîte à moustaches avec valeurs aberrantes\n",
    "    axes[i].boxplot(df[var].dropna(), flierprops=dict(marker='o', color='red', markersize=5))\n",
    "    axes[i].set_title(f\"{var.capitalize()} (avec valeurs aberrantes)\")\n",
    "    axes[i].set_ylabel(var.capitalize())\n",
    "    axes[i].set_xlabel(\"Arbres\")\n",
    "\n",
    "plt.tight_layout(rect=[0, 0, 1, 0.96])\n",
    "plt.show()\n"
   ]
  },
  {
   "cell_type": "markdown",
   "metadata": {
    "id": "GfMzKHDA1QrN"
   },
   "source": [
    "## Analyse circonférences & hauteurs\n",
    "Ces caracteristiques numériques sont capitale dans le processus de nettoyage des données"
   ]
  },
  {
   "cell_type": "markdown",
   "metadata": {
    "id": "geYuXBvuZgLi"
   },
   "source": [
    "Pour mieux visualiser les données tout en gardant les valeurs aberrantes, nous pouvons utiliser une échelle logarithmique. Cela permettra de réduire l’impact des valeurs extrêmes et de rendre les données dans les boîtes à moustaches plus visibles."
   ]
  },
  {
   "cell_type": "code",
   "execution_count": null,
   "metadata": {
    "id": "DUJGLWagZonR"
   },
   "outputs": [],
   "source": []
  },
  {
   "cell_type": "code",
   "execution_count": null,
   "metadata": {
    "colab": {
     "base_uri": "https://localhost:8080/",
     "height": 702
    },
    "id": "5n_v88rXZfnR",
    "outputId": "13ab888b-6f4d-4f05-e3da-7eaee8390e4b"
   },
   "outputs": [],
   "source": [
    "# Liste des variables à analyser\n",
    "variables = ['circonference_cm', 'hauteur_m']\n",
    "fig, axes = plt.subplots(nrows=1, ncols=len(variables), figsize=(15, 8))\n",
    "fig.suptitle(\"Boîtes à Moustaches des Dimensions des Arbres (Échelle Logarithmique)\")\n",
    "\n",
    "for i, var in enumerate(variables):\n",
    "    # Application d'une transformation logarithmique pour mieux visualiser les données\n",
    "    # Remplacement des valeurs nulles et des valeurs <= 0 pour éviter les erreurs de log\n",
    "    data_log = df[var].apply(lambda x: np.log10(x) if x > 0 else np.nan).dropna()\n",
    "\n",
    "    # Création de la boîte à moustaches avec l'échelle logarithmique\n",
    "    axes[i].boxplot(data_log, flierprops=dict(marker='o', color='red', markersize=5))\n",
    "    axes[i].set_title(f\"{var.capitalize()} (Échelle Log)\")\n",
    "    axes[i].set_ylabel(f\"Log10({var.capitalize()})\")\n",
    "    axes[i].set_xlabel(\"Arbres\")\n",
    "\n",
    "plt.tight_layout(rect=[0, 0, 1, 0.96])\n",
    "plt.show()\n"
   ]
  },
  {
   "cell_type": "markdown",
   "metadata": {
    "id": "UwQ0BWRK1onm"
   },
   "source": [
    "Comment dissocier les données atypiques des données aberrantes?"
   ]
  },
  {
   "cell_type": "code",
   "execution_count": null,
   "metadata": {
    "id": "mTYw3AmmU-S1"
   },
   "outputs": [],
   "source": [
    "df.sample(3)"
   ]
  },
  {
   "cell_type": "markdown",
   "metadata": {
    "id": "fWSoUA1hin6q"
   },
   "source": [
    "#Analyse complémentaire & Nettoyage\n",
    "##Boxplots par genre pour chaque arrondissement aberrant\n",
    "\n",
    "Boxplots par genre dans ces arrondissements spécifiques afin d'explorer la répartition des divers types d’arbres et identifier des particularités dans la distribution pour chaque genre. Cela nous permettra de mieux comprendre les écarts dans ces zones."
   ]
  },
  {
   "cell_type": "code",
   "execution_count": null,
   "metadata": {
    "colab": {
     "base_uri": "https://localhost:8080/",
     "height": 211
    },
    "id": "vHFdPkfYir6-",
    "outputId": "65915c8c-322b-4c9e-c0bf-296e5829a2f4"
   },
   "outputs": [],
   "source": [
    "# Création de boxplots individuels pour chaque arrondissement aberrant pour éviter les conflits dus aux genres manquants\n",
    "\n",
    "for arrdt in arrondissements_aberrants:\n",
    "    # Filtrer les données pour l'arrondissement en cours\n",
    "    data_arrdt = df_aberrants[df_aberrants[\"arrondissement\"] == arrdt]\n",
    "\n",
    "    # Création du boxplot pour la diversité des genres dans cet arrondissement\n",
    "    plt.figure(figsize=(10, 6))\n",
    "    data_arrdt.boxplot(column=\"circonference_cm\", by=\"genre\")\n",
    "    plt.title(f\"Distribution de la Circonférence par Genre dans l'Arrondissement: {arrdt}\")\n",
    "    plt.suptitle(\"\")  # Supprime le titre automatique de pandas\n",
    "    plt.xlabel(\"Genre\")\n",
    "    plt.ylabel(\"Circonférence (cm)\")\n",
    "    plt.xticks(rotation=45, ha='right')\n",
    "    plt.tight_layout()\n",
    "    plt.show()\n"
   ]
  },
  {
   "cell_type": "code",
   "execution_count": null,
   "metadata": {
    "colab": {
     "base_uri": "https://localhost:8080/",
     "height": 211
    },
    "id": "tFk-WGiniUSX",
    "outputId": "6afb53d8-32c7-4834-eaf7-904a5d9e6ad1"
   },
   "outputs": [],
   "source": [
    "# Recréons les boxplots pour chaque arrondissement, en gérant les genres manquants de manière individuelle\n",
    "\n",
    "# Réinitialisation de la figure pour éviter d'éventuels conflits\n",
    "fig, axes = plt.subplots(nrows=len(arrondissements_aberrants), ncols=1, figsize=(14, 16), sharex=True)\n",
    "\n",
    "for i, arrdt in enumerate(arrondissements_aberrants):\n",
    "    # Filtrer les données pour l'arrondissement en cours\n",
    "    data_arrdt = df_aberrants[df_aberrants[\"arrondissement\"] == arrdt]\n",
    "\n",
    "    # Création du boxplot pour la diversité des genres dans cet arrondissement\n",
    "    # Utilisation de get_group pour s'assurer que chaque genre est bien représenté indépendamment\n",
    "    data_arrdt.boxplot(column=\"circonference_cm\", by=\"genre\", ax=axes[i])\n",
    "    axes[i].set_title(f\"Arrondissement: {arrdt}\")\n",
    "    axes[i].set_xlabel(\"Genre\")\n",
    "    axes[i].set_ylabel(\"Circonférence (cm)\")\n",
    "\n",
    "plt.suptitle(\"Distribution de la Circonférence par Genre dans les Arrondissements Aberrants\", fontsize=16)\n",
    "plt.tight_layout(rect=[0, 0, 1, 0.96])\n",
    "plt.show()\n"
   ]
  },
  {
   "cell_type": "code",
   "execution_count": null,
   "metadata": {
    "id": "h-J3L9UvgT-l"
   },
   "outputs": [],
   "source": [
    "df.columns"
   ]
  },
  {
   "cell_type": "code",
   "execution_count": null,
   "metadata": {
    "id": "7hdpcyBRgL6H"
   },
   "outputs": [],
   "source": [
    "import pandas as pd\n",
    "import plotly.express as px\n",
    "\n",
    "# Choisir une palette de couleurs plus étendue ou personnalisée\n",
    "color_discrete_map = {\n",
    "    \"Aesculus\": \"rgb(31, 119, 180)\",\n",
    "    \"Quercus\": \"rgb(255, 127, 14)\",\n",
    "    \"Platanus\": \"rgb(44, 160, 44)\",\n",
    "    # Ajoutez d'autres genres avec des couleurs spécifiques ici...\n",
    "}\n",
    "\n",
    "# Créer le graphique avec une palette de couleurs personnalisée\n",
    "fig = px.box(\n",
    "    df,\n",
    "    x='arrondissement',\n",
    "    y='hauteur_m',\n",
    "    color='genre',\n",
    "    title=\"Distribution de la Hauteur des Arbres par Genre et Arrondissement\",\n",
    "    labels={'circonference_cm': \"Circonférence en cm\", 'arrondissement': \"Arrondissement\"},\n",
    "    points=False,  # Supprime les points pour ne garder que les boîtes\n",
    "    color_discrete_map=color_discrete_map  # Applique la palette de couleurs personnalisée\n",
    ")\n",
    "\n",
    "# Mettre la légende en bas et ajuster la taille\n",
    "fig.update_layout(\n",
    "    legend=dict(\n",
    "        title=\"Genres\",\n",
    "        orientation=\"h\",\n",
    "        yanchor=\"top\",\n",
    "        y=-0.3,\n",
    "        xanchor=\"center\",\n",
    "        x=0.5\n",
    "    ),\n",
    "    xaxis_tickangle=45\n",
    ")\n",
    "\n",
    "# Afficher le graphique\n",
    "fig.show()\n"
   ]
  },
  {
   "cell_type": "markdown",
   "metadata": {
    "id": "2MCX4A6qgedh"
   },
   "source": [
    "Maintenant je sais ou chercher les reelle valeurs aberrantes"
   ]
  },
  {
   "cell_type": "code",
   "execution_count": null,
   "metadata": {
    "id": "xkOr-QCogd8O"
   },
   "outputs": [],
   "source": []
  },
  {
   "cell_type": "markdown",
   "metadata": {
    "id": "NkPiFtopzJos"
   },
   "source": [
    "## Comptages détaillés pour les variétés d'arbres"
   ]
  },
  {
   "cell_type": "markdown",
   "metadata": {
    "id": "AlOgjuYT_V9i"
   },
   "source": [
    "# 3. Analyse univariée"
   ]
  },
  {
   "cell_type": "markdown",
   "metadata": {
    "id": "qg1--RTgwFMp"
   },
   "source": [
    "Définition des variables vu sur opendata.paris.fr/"
   ]
  },
  {
   "cell_type": "markdown",
   "metadata": {
    "id": "e-uW4uhGwdxG"
   },
   "source": [
    "Les variables numériques"
   ]
  },
  {
   "cell_type": "code",
   "execution_count": null,
   "metadata": {
    "id": "fj9oYhr0nyBN"
   },
   "outputs": [],
   "source": [
    "df.columns"
   ]
  },
  {
   "cell_type": "markdown",
   "metadata": {
    "id": "jacH6MKfxsPs"
   },
   "source": [
    "Interpretation des variables\n",
    "\n",
    "## Variables numériques :\n",
    "\n",
    "IDBASE : Chaque enregistrement est unique.\n",
    "NUMERO : Majoritairement '0', ce qui pourrait indiquer une absence de numéro de rue.\n",
    "IDSTATION : Beaucoup de zéros, possiblement des valeurs manquantes ou non attribuées.\n",
    "\n",
    "\n",
    "## Variables catégoriques :\n",
    "\n",
    "TYPEEMPLACEMENT et LIBELLEFRANCAIS : Uniquement 'Arbre', donc peu informatif pour l'analyse.\n",
    "DOMANIALITE : Trois catégories principales, avec une majorité sur 'Terrains de l'État'.\n",
    "ARRONDISSEMENT : Répartition des arbres par arrondissement, le 15e étant le plus représenté.\n",
    "GENRE et ESPECE : Grande diversité, avec certains genres et espèces plus fréquents.\n",
    "\n",
    "Résumé:\n",
    "      \n",
    "\n",
    "```\n",
    "      # Principales colonnes pertinentes pour l'analyse :\n",
    "\n",
    "id : Identifiant unique de chaque arbre.\n",
    "type_emplacement : Type d'emplacement (par exemple, \"Arbre\").\n",
    "\n",
    "domanialite : Propriété de l'arbre (ex. \"Jardin\").\n",
    "arrondissement : Localisation géographique (ex. \"PARIS 7E ARRDT\").\n",
    "\n",
    "libelle_francais : Nom français de l'arbre.\n",
    "genre et espece : Genre et espèce botanique de l'arbre.\n",
    "\n",
    "circonference_cm et hauteur_m : Mesures de l'arbre en centimètres et mètres.\n",
    "stade_developpement : Niveau de développement de l'arbre.\n",
    "\n",
    "remarquable : Indicateur si l'arbre est remarquable ou non.\n",
    "\n",
    "geo_point_2d_a et geo_point_2d_b : Coordonnées géographiques."
   ]
  },
  {
   "cell_type": "markdown",
   "metadata": {
    "id": "HJAIbafkbFVa"
   },
   "source": [
    "\n",
    "\n",
    "Colonnes principales:\n",
    "- id                  : Identifiant unique de l'arbre\n",
    "- type_emplacement    : Type d'emplacement de l'arbre\n",
    "- domanialite         : Type de propriété de l'arbre\n",
    "- arrondissement      : Arrondissement de l'arbre\n",
    "- complement_adresse  : Adresse complémentaire de l'arbre\n",
    "- numero              : Numéro d'adresse (inexistant ici)\n",
    "- lieu                : Lieu exact où l'arbre est situé\n",
    "- id_emplacement      : Identifiant de l'emplacement\n",
    "- libelle_francais    : Nom français commun de l'arbre\n",
    "- genre               : Genre botanique de l'arbre\n",
    "- espece              : Espèce botanique de l'arbre\n",
    "- variete             : Variété de l'arbre (quand disponible)\n",
    "- circonference_cm    : Circonférence de l'arbre en cm\n",
    "- hauteur_m           : Hauteur de l'arbre en mètres\n",
    "- stade_developpement : Stade de croissance (ex: jeune, mature)\n",
    "- remarquable         : Marquage si l'arbre est \"remarquable\" (valeur booléenne)\n",
    "- geo_point_2d_a      : Latitude\n",
    "- geo_point_2d_b      : Longitude"
   ]
  },
  {
   "cell_type": "code",
   "execution_count": null,
   "metadata": {
    "id": "DkyDMPHlaqhj"
   },
   "outputs": [],
   "source": [
    "print('Hiérarchie pour les Arbres :')\n",
    "print('Arbre -> Genre -> Espèce -> Variété')\n",
    "df.sample(5)"
   ]
  },
  {
   "cell_type": "markdown",
   "metadata": {
    "id": "Z7AFGZYEcwEP"
   },
   "source": []
  },
  {
   "cell_type": "code",
   "execution_count": null,
   "metadata": {
    "id": "wBbMyaSLbzxt"
   },
   "outputs": [],
   "source": [
    "# Calcul du nombre unique par niveau de la hiérarchie par arrondissement et par genre\n",
    "unique_counts_genre = df.groupby([\"arrondissement\", \"genre\"]).agg({\n",
    "    \"libelle_francais\": \"nunique\",\n",
    "    \"espece\": \"nunique\",\n",
    "    \"variete\": \"nunique\"\n",
    "}).rename(columns={\n",
    "    \"libelle_francais\": \"nb_libelle_francais\",\n",
    "    \"espece\": \"nb_espece\",\n",
    "    \"variete\": \"nb_variete\"\n",
    "}).reset_index()\n",
    "\n",
    "# Transformation pour obtenir un DataFrame adapté aux barres empilées\n",
    "unique_counts_genre_pivot = unique_counts_genre.pivot(index=\"arrondissement\", columns=\"genre\", values=\"nb_libelle_francais\").fillna(0)\n",
    "\n",
    "# Création du graphique en barres empilées pour visualiser la diversité des arbres par genre et par arrondissement\n",
    "fig, ax = plt.subplots(figsize=(14, 8))\n",
    "\n",
    "# Création de barres empilées pour chaque genre\n",
    "unique_counts_genre_pivot.plot(kind='bar', stacked=True, ax=ax, colormap='tab20')\n",
    "\n",
    "# Personnalisation des éléments du graphique\n",
    "ax.set_title(\"Diversité des Arbres par Genre et par Arrondissement\", fontsize=16)\n",
    "ax.set_xlabel(\"Arrondissement\", fontsize=12)\n",
    "ax.set_ylabel(\"Nombre Unique de Libellés Français\", fontsize=12)\n",
    "ax.legend(title=\"Genres\", bbox_to_anchor=(1.05, 1), loc='')\n",
    "\n",
    "# Rotation des noms des arrondissements pour améliorer la lisibilité\n",
    "plt.xticks(rotation=45, ha='right')\n",
    "plt.tight_layout()\n",
    "\n",
    "# Affichage du graphique\n",
    "plt.show()\n"
   ]
  },
  {
   "cell_type": "code",
   "execution_count": null,
   "metadata": {
    "id": "bGTkrUPGhpS0"
   },
   "outputs": [],
   "source": [
    "df.columns"
   ]
  },
  {
   "cell_type": "code",
   "execution_count": null,
   "metadata": {
    "id": "z8mzrUjueTXm"
   },
   "outputs": [],
   "source": [
    "import pandas as pd\n",
    "import plotly.express as px\n",
    "\n",
    "# Choisir une palette de couleurs plus étendue ou personnalisée\n",
    "color_discrete_map = {\n",
    "    \"Aesculus\": \"rgb(31, 119, 180)\",\n",
    "    \"Quercus\": \"rgb(255, 127, 14)\",\n",
    "    \"Platanus\": \"rgb(44, 160, 44)\",\n",
    "    # Ajoutez d'autres genres avec des couleurs spécifiques ici...\n",
    "}\n",
    "\n",
    "# Créer le graphique avec une palette de couleurs personnalisée\n",
    "fig = px.box(\n",
    "    df,\n",
    "    x='arrondissement',\n",
    "    y='circonference_cm',\n",
    "    color='genre',\n",
    "    title=\"Distribution de la Circonférence des Arbres par Genre et Arrondissement\",\n",
    "    labels={'circonference_cm': \"Circonférence en cm\", 'arrondissement': \"Arrondissement\"},\n",
    "    points=False,  # Supprime les points pour ne garder que les boîtes\n",
    "    color_discrete_map=color_discrete_map  # Applique la palette de couleurs personnalisée\n",
    ")\n",
    "\n",
    "# Mettre la légende en bas et ajuster la taille\n",
    "fig.update_layout(\n",
    "    legend=dict(\n",
    "        title=\"Genres\",\n",
    "        orientation=\"v\",\n",
    "        yanchor=\"top\",\n",
    "        y=-0.3,\n",
    "        xanchor=\"center\",\n",
    "        x=0.2\n",
    "    ),\n",
    "    xaxis_tickangle=45\n",
    ")\n",
    "\n",
    "# Afficher le graphique\n",
    "fig.show()\n"
   ]
  },
  {
   "cell_type": "code",
   "execution_count": null,
   "metadata": {
    "id": "oa3pYm8djY7S"
   },
   "outputs": [],
   "source": [
    "# Choisir une palette de couleurs plus étendue ou personnalisée\n",
    "color_discrete_map = {\n",
    "    \"Aesculus\": \"rgb(31, 119, 180)\",\n",
    "    \"Quercus\": \"rgb(255, 127, 14)\",\n",
    "    \"Platanus\": \"rgb(44, 160, 44)\",\n",
    "    # Ajoutez d'autres genres avec des couleurs spécifiques ici...\n",
    "}\n",
    "\n",
    "# Créer le graphique avec une palette de couleurs personnalisée\n",
    "fig = px.box(\n",
    "    df,\n",
    "    x='arrondissement',\n",
    "    y='hauteur_m',\n",
    "    color='genre',\n",
    "    title=\"Distribution de la Hauteur des Arbres par Genre et Arrondissement\",\n",
    "    labels={'circonference_cm': \"Circonférence en cm\", 'arrondissement': \"Arrondissement\"},\n",
    "    points=False,  # Supprime les points pour ne garder que les boîtes\n",
    "    color_discrete_map=color_discrete_map  # Applique la palette de couleurs personnalisée\n",
    ")\n",
    "\n",
    "# Mettre la légende en bas et ajuster la taille\n",
    "fig.update_layout(\n",
    "    legend=dict(\n",
    "        title=\"Genres\",\n",
    "        orientation=\"h\",\n",
    "        yanchor=\"top\",\n",
    "        y=-0.3,\n",
    "        xanchor=\"center\",\n",
    "        x=0.5\n",
    "    ),\n",
    "    xaxis_tickangle=45\n",
    ")\n",
    "\n",
    "# Afficher le graphique\n",
    "fig.show()\n"
   ]
  },
  {
   "cell_type": "markdown",
   "metadata": {
    "id": "Bj8BCJSqiPvy"
   },
   "source": [
    "Les arrondissements identifiés avec des valeurs aberrantes de diversité d'arbres sont :\n",
    "\n",
    "BOIS DE BOULOGNE\n",
    "BOIS DE VINCENNES\n",
    "HAUTS-DE-SEINE\n",
    "PARIS 16E ARRDT\n",
    "Justification de l'isolement de ces arrondissements\n",
    "Ces arrondissements présentent des niveaux de diversité d’arbres anormalement élevés ou faibles par rapport aux autres. Leurs valeurs de diversité sont situées dans les 5 % les plus élevés ou les plus faibles, ce qui justifie une analyse plus approfondie.\n",
    "\n",
    "Analyse complémentaire : Boxplots par genre pour chaque arrondissement aberrant\n",
    "Je vais créer des boxplots pour chaque genre dans ces arrondissements spécifiques afin d'explorer la répartition des divers types d’arbres et identifier des particularités dans la distribution pour chaque genre. Cela nous permettra de mieux comprendre les écarts dans ces zones. Je vais maintenant générer ces boxplots. ​​\n",
    "\n",
    "Une erreur est survenue lors de la création des boxplots, vraisemblablement en raison d'un problème d'alignement entre les genres et les arrondissements. Cela peut se produire si certains genres ne sont pas représentés de manière uniforme dans tous les arrondissements sélectionnés, ce qui entraîne un déséquilibre.\n",
    "\n",
    "Je vais ajuster le code pour m'assurer que chaque boxplot est correctement généré, indépendamment des différences de genres entre les arrondissements. ​​\n",
    "\n",
    "L'erreur persiste probablement en raison de déséquilibres dans le nombre de genres dans chaque arrondissement, ce qui complique l'affichage simultané. Pour résoudre cela, je vais créer des boxplots pour chaque arrondissement et chaque genre de manière indépendante, sans utiliser d'axes partagés, afin d'éviter ce conflit.\n",
    "\n",
    "Je vais ajuster l’approche pour afficher les boxplots un par un pour chaque arrondissement aberran"
   ]
  },
  {
   "cell_type": "markdown",
   "metadata": {
    "id": "FRIxQznns_-2"
   },
   "source": [
    "Ces résultats montrent quelques particularités, notamment des valeurs extrêmes surprenantes dans les colonnes `circonference_cm` et `hauteur_m`, ainsi qu'une absence totale de valeurs pour `numero` (d’où les `NaN`).\n",
    "\n",
    "1. **Colonne `circonference_cm` et `hauteur_m`** :\n",
    "   - Les valeurs maximales (250255 pour la circonférence et 881818 pour la hauteur) sont très élevées et probablement des erreurs de saisie.\n",
    "   - Il serait judicieux de filtrer les valeurs aberrantes en fixant une limite raisonnable pour chaque colonne. Par exemple, une circonférence de plus de 1000 cm et une hauteur de plus de 100 m semblent improbables pour des arbres de rue.\n",
    "\n",
    "2. **Colonne `remarquable`** :\n",
    "   - Cette colonne contient des valeurs binaires (0 ou 1), où 1 indique probablement un arbre remarquable.\n",
    "   - Il semble y avoir des valeurs manquantes (`count` de 137039 pour 200137 lignes). Cette variable est capitale pour appoeter un soin particulier aux arbres catégorisé remarquables\n",
    "3. **Colonnes géographiques `geo_point_2d_a` et `geo_point_2d_b`** :\n",
    "   - Une visualisation de ces points sur une carte aidera à confirmer la cohérence géographique.\n",
    "\n",
    "4. **Colonne `numero`** :\n",
    "   - Elle semble ne contenir aucune donnée.\n",
    "\n"
   ]
  },
  {
   "cell_type": "markdown",
   "metadata": {
    "id": "OTHN_rNwwh3o"
   },
   "source": [
    "Les variables catégoriques\n"
   ]
  },
  {
   "cell_type": "code",
   "execution_count": null,
   "metadata": {
    "id": "hInmS1LEwl6o"
   },
   "outputs": [],
   "source": [
    "# Sélectionner les variables catégoriques\n",
    "categorical_cols = df.select_dtypes(include=['object']).columns\n",
    "print(categorical_cols)"
   ]
  },
  {
   "cell_type": "code",
   "execution_count": null,
   "metadata": {
    "id": "TxoEwm9fwlhG"
   },
   "outputs": [],
   "source": [
    "# Parcourir chaque colonne et afficher le nombre de valeurs uniques et les 10 valeurs les plus fréquentes\n",
    "for col in df.columns:\n",
    "    unique_values = df[col].nunique()\n",
    "    print(f\"Le nombre de valeurs uniques pour la variable '{col}' est: {unique_values}\")\n",
    "    print(f\"Les 10 valeurs les plus fréquentes pour '{col}' sont:\\n{df[col].value_counts(dropna=False).head(10)}\\n\")\n"
   ]
  },
  {
   "cell_type": "code",
   "execution_count": null,
   "metadata": {
    "id": "u6P9Rnqj_fO8"
   },
   "outputs": [],
   "source": []
  },
  {
   "cell_type": "code",
   "execution_count": null,
   "metadata": {
    "id": "WZY-Kbne_l1y"
   },
   "outputs": [],
   "source": []
  },
  {
   "cell_type": "code",
   "execution_count": null,
   "metadata": {
    "id": "1rj1Wzy3zYdN"
   },
   "outputs": [],
   "source": []
  },
  {
   "cell_type": "code",
   "execution_count": null,
   "metadata": {
    "id": "3xhWVozdxr9Y"
   },
   "outputs": [],
   "source": [
    "# Liste des variables catégoriques\n",
    "categorical_cols = df.select_dtypes(include=['object']).columns\n",
    "print(f\"Les variables catégoriques sont :\\n{categorical_cols}\\n\")\n",
    "\n",
    "# Dictionnaire pour stocker les DataFrames\n",
    "dict_value_counts = {}\n",
    "\n",
    "for col in categorical_cols:\n",
    "    value_counts = df[col].value_counts(dropna=False).reset_index()\n",
    "    value_counts.columns = [col, 'Counts']\n",
    "    dict_value_counts[col] = value_counts\n",
    "\n",
    "# Exemple d'affichage pour la variable 'genre'\n",
    "df_genre_counts = dict_value_counts['genre']\n",
    "df_genre_counts.head(15)\n"
   ]
  },
  {
   "cell_type": "markdown",
   "metadata": {
    "id": "0wmTxFEkzGRy"
   },
   "source": [
    "Remarques :\n",
    "\n",
    "Variable 'TYPE' et 'SOUS_CATEGORIE' : Ces variables semblent vides ou non renseignées, ce qui explique le nombre de valeurs uniques à 0 et l'absence de valeurs dans 'Top_Valeurs'.\n",
    "Variable 'VARIETE' : La valeur 'NaN' indique des valeurs manquantes. Le champ vide '' représente des chaînes de caractères vides."
   ]
  },
  {
   "cell_type": "code",
   "execution_count": null,
   "metadata": {
    "id": "KgFOqMsRxsBK"
   },
   "outputs": [],
   "source": [
    "\n",
    "# Liste pour stocker les résultats\n",
    "summary_list = []\n",
    "\n",
    "# Parcourir chaque colonne\n",
    "for col in df.columns:\n",
    "    unique_values = df[col].nunique()\n",
    "    top_values = df[col].value_counts(dropna=False).head(10)\n",
    "    # Convertir les top valeurs en chaîne de caractères\n",
    "    top_values_str = ', '.join([f\"{idx}: {count}\" for idx, count in top_values.items()])\n",
    "    summary_list.append({\n",
    "        'Variable': col,\n",
    "        'Nb_Valeurs_Uniques': unique_values,\n",
    "        'Top_Valeurs': top_values_str\n",
    "    })\n",
    "\n",
    "# Créer le DataFrame résumé\n",
    "df_summary = pd.DataFrame(summary_list)\n",
    "\n",
    "# Afficher le DataFrame\n",
    "df_summary\n"
   ]
  },
  {
   "cell_type": "markdown",
   "metadata": {
    "id": "5CeluzdayiKb"
   },
   "source": []
  },
  {
   "cell_type": "code",
   "execution_count": null,
   "metadata": {
    "id": "tQT2xiUzcBKe"
   },
   "outputs": [],
   "source": [
    "df.sample(5)"
   ]
  },
  {
   "cell_type": "code",
   "execution_count": null,
   "metadata": {
    "id": "jNkHBM6rOcBz"
   },
   "outputs": [],
   "source": [
    "# Sélectionner les variables numériques\n",
    "numerical_cols = df.select_dtypes(include=['int64', 'float64']).columns\n",
    "print(numerical_cols)"
   ]
  },
  {
   "cell_type": "code",
   "execution_count": null,
   "metadata": {
    "id": "Bjm4WjO-OdHD"
   },
   "outputs": [],
   "source": [
    "# Statistiques descriptives des variables numériques\n",
    "df[numerical_cols].describe().round(2)"
   ]
  },
  {
   "cell_type": "code",
   "execution_count": null,
   "metadata": {
    "id": "r1DWVnFY0e5i"
   },
   "outputs": [],
   "source": [
    "sns.pairplot(df[numerical_cols])\n",
    "plt.show("
   ]
  },
  {
   "cell_type": "code",
   "execution_count": null,
   "metadata": {
    "id": "lnbDm761zoRR"
   },
   "outputs": [],
   "source": [
    "\n",
    "\n",
    "# Calculate the number of null values per column\n",
    "nan_counts = df.isnull().sum()\n",
    "\n",
    "# Calculate the percentage of null values per column\n",
    "nan_percentage = (nan_counts / len(df) * 100).round(2)\n",
    "\n",
    "# Create a DataFrame to present the results\n",
    "nan_df = pd.DataFrame({\n",
    "    'Nombre de valeurs nulles': nan_counts,\n",
    "    'Pourcentage de valeurs nulles (%)': nan_percentage\n",
    "})\n",
    "\n",
    "# Filter to keep only columns with at least one null value\n",
    "nan_df = nan_df[nan_df['Nombre de valeurs nulles'] > 0]\n",
    "\n",
    "# Sort the DataFrame in descending order of the number of null values\n",
    "nan_df = nan_df.sort_values(by='Nombre de valeurs nulles', ascending=False)\n",
    "\n",
    "# Now you can check if nan_df is empty\n",
    "if nan_df.empty:\n",
    "    print(\"\\nAucune colonne ne contient de valeurs nulles.\")\n",
    "else:\n",
    "    # Get the names of columns without null values\n",
    "    no_nan_cols = df.columns[df.isnull().sum() == 0]\n",
    "    if len(no_nan_cols) > 0:\n",
    "        print(\"\\nLes colonnes suivantes n'ont pas de valeurs nulles :\")\n",
    "        for col in no_nan_cols:\n",
    "            print(f\"- {col}\")\n",
    "    else:\n",
    "        print(\"\\nToutes les colonnes contiennent des valeurs nulles.\")\n",
    "\n",
    "# Display the DataFrame\n",
    "nan_df"
   ]
  },
  {
   "cell_type": "markdown",
   "metadata": {
    "id": "1YHfm6qunCwA"
   },
   "source": [
    "Les colonnes \"numero\",variété et complement d'adresse me semble inutilisable"
   ]
  },
  {
   "cell_type": "markdown",
   "metadata": {
    "id": "075PXotlQfZj"
   },
   "source": [
    "# Interprétation des variables :"
   ]
  },
  {
   "cell_type": "markdown",
   "metadata": {
    "id": "Jp49ku8SgbMH"
   },
   "source": [
    "# df's"
   ]
  },
  {
   "cell_type": "code",
   "execution_count": null,
   "metadata": {
    "id": "dWHrt321ggjf"
   },
   "outputs": [],
   "source": [
    "#df de base = df\n",
    "#df des valeurs nulles = nan_df\n",
    "#df valeur aberrantes = all_outliers\n",
    "#df transformation = filtered_df_transformed\n",
    "#df final = data"
   ]
  },
  {
   "cell_type": "code",
   "execution_count": null,
   "metadata": {
    "id": "0PCeeB0VhH6C"
   },
   "outputs": [],
   "source": [
    "data"
   ]
  },
  {
   "cell_type": "markdown",
   "metadata": {
    "id": "w4M2su4VOdam"
   },
   "source": [
    "# Visualisation géospatiale : Carte interactive des arbres"
   ]
  },
  {
   "cell_type": "code",
   "execution_count": null,
   "metadata": {
    "id": "nmCqxUknXAnF"
   },
   "outputs": [],
   "source": [
    "!pip install plotly pandas\n",
    "import plotly.express as px\n",
    "import pandas as pd\n",
    "\n",
    "# Convertir la colonne 'geo_point_2d' en deux colonnes 'latitude' et 'longitude'\n",
    "df_clean['latitude'] = df_clean['geo_point_2d'].apply(lambda x: x[0] if isinstance(x, list) and len(x) > 0 else None)\n",
    "df_clean['longitude'] = df_clean['geo_point_2d'].apply(lambda x: x[1] if isinstance(x, list) and len(x) > 0 else None)\n",
    "\n",
    "# Supprimer les lignes avec des valeurs nulles pour la latitude et la longitude\n",
    "df_clean = df_clean.dropna(subset=['latitude', 'longitude'])\n",
    "\n",
    "# Sélectionner les espèces à inclure\n",
    "selected_species = ['x hispanica', 'hippocastanum', 'orientalis']\n",
    "\n",
    "# Filtrer le DataFrame\n",
    "filtered_df = df_clean[df_clean['espece'].isin(selected_species)]\n",
    "\n",
    "# Grouper par espèce et coordonnées pour compter le nombre d'arbres\n",
    "grouped_df = filtered_df.groupby(['espece', 'latitude', 'longitude'])['idbase'].count().reset_index(name='nombre_arbres')\n",
    "\n",
    "# Créer la carte interactive\n",
    "fig = px.scatter_mapbox(grouped_df,\n",
    "                        lat='latitude',\n",
    "                        lon='longitude',\n",
    "                        color='espece',  # Colorer les points par espèce\n",
    "                        size='nombre_arbres',  # Taille des points en fonction du nombre d'arbres\n",
    "                        hover_name='espece',  # Afficher l'espèce au survol\n",
    "                        hover_data={'latitude': False, 'longitude': False, 'nombre_arbres': True}, # Afficher le nombre d'arbres dans l'infobulle\n",
    "                        zoom=10,  # Niveau de zoom initial\n",
    "                        mapbox_style=\"open-street-map\")  # Style de la carte\n",
    "\n",
    "fig.show()"
   ]
  },
  {
   "cell_type": "markdown",
   "metadata": {
    "id": "0Uluw3hsOjXK"
   },
   "source": [
    "# Analyse de la biodiversité : Calculs et visualisation de la diversité des espèces"
   ]
  },
  {
   "cell_type": "markdown",
   "metadata": {
    "id": "b4p4ZFGnhwIR"
   },
   "source": [
    "Mes observations"
   ]
  },
  {
   "cell_type": "markdown",
   "metadata": {
    "id": "8zQweh16UhjM"
   },
   "source": [
    "# Organisation des tournées"
   ]
  },
  {
   "cell_type": "markdown",
   "metadata": {
    "id": "OAQn3F4cUpjX"
   },
   "source": [
    "Quels sont les facteurs les plus importants à prendre en compte pour organiser les tournées (distance, espèce, circonférence, hauteur, etc.) ?\n",
    "Comment regrouper les arbres pour former des tournées (par espèce, par zone géographique, par taille, etc.) ?\n",
    "Y a-t-il des contraintes spécifiques à respecter (nombre maximum d'arbres par tournée, distance maximale entre les arbres, etc.) ?\n",
    "\n"
   ]
  },
  {
   "cell_type": "markdown",
   "metadata": {
    "id": "9QcVHxn9UzpO"
   },
   "source": [
    "Recherche de données concernant les espèces sur le web (Besoin en eau)"
   ]
  },
  {
   "cell_type": "code",
   "execution_count": null,
   "metadata": {
    "id": "I-NPKRd0UorD"
   },
   "outputs": [],
   "source": []
  },
  {
   "cell_type": "code",
   "execution_count": null,
   "metadata": {
    "id": "VWYNcfcUzYaG"
   },
   "outputs": [],
   "source": []
  },
  {
   "cell_type": "markdown",
   "metadata": {
    "id": "4-Z1THj5OvB2"
   },
   "source": [
    "# Conclusion et synthèse : Résumé des résultats et implications pour l'optimisation des tournées"
   ]
  },
  {
   "cell_type": "code",
   "execution_count": null,
   "metadata": {
    "id": "w-D0AAyhzYWo"
   },
   "outputs": [],
   "source": []
  },
  {
   "cell_type": "code",
   "execution_count": null,
   "metadata": {
    "id": "CUc61iPSzYTX"
   },
   "outputs": [],
   "source": []
  },
  {
   "cell_type": "code",
   "execution_count": null,
   "metadata": {
    "id": "uNo2l-QazYQD"
   },
   "outputs": [],
   "source": []
  },
  {
   "cell_type": "code",
   "execution_count": null,
   "metadata": {
    "id": "obfsGWLOzYMV"
   },
   "outputs": [],
   "source": []
  },
  {
   "cell_type": "code",
   "execution_count": null,
   "metadata": {
    "id": "3cxRuKI-zYJG"
   },
   "outputs": [],
   "source": []
  },
  {
   "cell_type": "code",
   "execution_count": null,
   "metadata": {
    "id": "n7cGWpWwzYGG"
   },
   "outputs": [],
   "source": []
  },
  {
   "cell_type": "code",
   "execution_count": null,
   "metadata": {
    "id": "MCtP7xO4zYCA"
   },
   "outputs": [],
   "source": []
  },
  {
   "cell_type": "code",
   "execution_count": null,
   "metadata": {
    "id": "0dkipZ9-zX-r"
   },
   "outputs": [],
   "source": []
  },
  {
   "cell_type": "code",
   "execution_count": null,
   "metadata": {
    "id": "do_nW85jzX8L"
   },
   "outputs": [],
   "source": []
  },
  {
   "cell_type": "code",
   "execution_count": null,
   "metadata": {
    "id": "N7vV-K2wzX4U"
   },
   "outputs": [],
   "source": []
  },
  {
   "cell_type": "code",
   "execution_count": null,
   "metadata": {
    "id": "UdtD7DhFzXzu"
   },
   "outputs": [],
   "source": []
  }
 ],
 "metadata": {
  "colab": {
   "collapsed_sections": [
    "AlOgjuYT_V9i",
    "jacH6MKfxsPs"
   ],
   "provenance": [],
   "toc_visible": true
  },
  "kernelspec": {
   "display_name": "Python (data_analysis_env)",
   "language": "python",
   "name": "data_analysis_env"
  },
  "language_info": {
   "codemirror_mode": {
    "name": "ipython",
    "version": 3
   },
   "file_extension": ".py",
   "mimetype": "text/x-python",
   "name": "python",
   "nbconvert_exporter": "python",
   "pygments_lexer": "ipython3",
   "version": "3.8.20"
  }
 },
 "nbformat": 4,
 "nbformat_minor": 4
}
